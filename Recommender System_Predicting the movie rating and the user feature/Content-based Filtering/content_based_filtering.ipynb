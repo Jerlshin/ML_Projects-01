{
  "nbformat": 4,
  "nbformat_minor": 0,
  "metadata": {
    "colab": {
      "provenance": []
    },
    "kernelspec": {
      "name": "python3",
      "display_name": "Python 3"
    },
    "language_info": {
      "name": "python"
    }
  },
  "cells": [
    {
      "cell_type": "markdown",
      "source": [
        "# Content Based Filtering\n",
        "\n",
        "using Deep learning\n"
      ],
      "metadata": {
        "id": "oBpJ3U03GTvu"
      }
    },
    {
      "cell_type": "markdown",
      "source": [
        "* Packages\n",
        "* Movie Rating dataset\n",
        "* Content based filtering with a neural network\n",
        "    * Training data\n",
        "    * Preparing the traingin data\n",
        "* Neural Network\n",
        "\n",
        "* Predictions\n",
        "    * Predictions for a new user\n",
        "    * Predictions for an existing user\n",
        "    \n",
        "    * Finding the similar Items\n",
        "    \n",
        "  "
      ],
      "metadata": {
        "id": "Y5JP_wg1GWWc"
      }
    },
    {
      "cell_type": "code",
      "execution_count": 2,
      "metadata": {
        "colab": {
          "base_uri": "https://localhost:8080/"
        },
        "id": "FVqNywpEGD1i",
        "outputId": "dee95ef1-c370-4b38-a179-75630e5d4246"
      },
      "outputs": [
        {
          "output_type": "stream",
          "name": "stdout",
          "text": [
            "Collecting pickle5\n",
            "  Downloading pickle5-0.0.11.tar.gz (132 kB)\n",
            "\u001b[?25l     \u001b[90m━━━━━━━━━━━━━━━━━━━━━━━━━━━━━━━━━━━━━━━━\u001b[0m \u001b[32m0.0/132.1 kB\u001b[0m \u001b[31m?\u001b[0m eta \u001b[36m-:--:--\u001b[0m\r\u001b[2K     \u001b[90m━━━━━━━━━━━━━━━━━━━━━━━━━━━━━━━━━━━━━━━\u001b[0m \u001b[32m132.1/132.1 kB\u001b[0m \u001b[31m7.2 MB/s\u001b[0m eta \u001b[36m0:00:00\u001b[0m\n",
            "\u001b[?25h  Preparing metadata (setup.py) ... \u001b[?25l\u001b[?25hdone\n",
            "Building wheels for collected packages: pickle5\n",
            "  Building wheel for pickle5 (setup.py) ... \u001b[?25l\u001b[?25hdone\n",
            "  Created wheel for pickle5: filename=pickle5-0.0.11-cp310-cp310-linux_x86_64.whl size=256384 sha256=0b2484cb8308d465cf0b808354386a6076e6bb14b52eee1856a5fdd0685bb5ae\n",
            "  Stored in directory: /root/.cache/pip/wheels/7d/14/ef/4aab19d27fa8e58772be5c71c16add0426acf9e1f64353235c\n",
            "Successfully built pickle5\n",
            "Installing collected packages: pickle5\n",
            "Successfully installed pickle5-0.0.11\n"
          ]
        }
      ],
      "source": [
        "!pip install pickle5\n",
        "\n",
        "import numpy as np\n",
        "from numpy import genfromtxt # way to load data from a file into a structured array\n",
        "# allows you to read from a text file and create a numpy array from it\n",
        "\n",
        "import numpy.ma as ma # Masked Array\n",
        "# masked arrays are arrays in which certain elements are marked as invalid or \"masked,\" indicating that they should be ignored during calculations.\n",
        "# Masked arrays are useful when working with missing or invalid data.\n",
        "\n",
        "import csv\n",
        "from collections import defaultdict\n",
        "\n",
        "import pandas as pd\n",
        "import tensorflow as tf\n",
        "from tensorflow import keras\n",
        "from sklearn.preprocessing import StandardScaler, MinMaxScaler\n",
        "from sklearn.model_selection import train_test_split\n",
        "\n",
        "import tabulate\n",
        "\n",
        "from recsysNN_utils import *\n"
      ]
    },
    {
      "cell_type": "markdown",
      "source": [
        "### Movie Rating dataset\n",
        "\n",
        "The data set is from the MovieLens ml-latest-small dataset.\n",
        "\n",
        "It has 9000 movies rated by 600 users"
      ],
      "metadata": {
        "id": "hxiZcLbHGWTK"
      }
    },
    {
      "cell_type": "code",
      "source": [
        "# we take nu = 397 and nm = 847 and"
      ],
      "metadata": {
        "id": "CT3y25COGPWW"
      },
      "execution_count": null,
      "outputs": []
    },
    {
      "cell_type": "code",
      "source": [
        "\n",
        "def load_data_my():\n",
        "    item_train = genfromtxt('content_item_train.csv', delimiter=',')\n",
        "    user_train = genfromtxt('content_user_train.csv', delimiter=',')\n",
        "    y_train    = genfromtxt('content_y_train.csv', delimiter=',')\n",
        "    with open('content_item_train_header.txt', newline='') as f:    #csv reader handles quoted strings better\n",
        "        item_features = list(csv.reader(f))[0]\n",
        "    with open('content_user_train_header.txt', newline='') as f:\n",
        "        user_features = list(csv.reader(f))[0]\n",
        "    item_vecs = genfromtxt('content_item_vecs.csv', delimiter=',')\n",
        "\n",
        "    movie_dict = defaultdict(dict)\n",
        "    count = 0\n",
        "#    with open('movies.csv', newline='') as csvfile:\n",
        "    with open('content_movie_list.csv', newline='') as csvfile:\n",
        "        reader = csv.reader(csvfile, delimiter=',', quotechar='\"')\n",
        "        for line in reader:\n",
        "            if count == 0:\n",
        "                count +=1  #skip header\n",
        "                #print(line)\n",
        "            else:\n",
        "                count +=1\n",
        "                movie_id = int(line[0])\n",
        "                movie_dict[movie_id][\"title\"] = line[1]\n",
        "                movie_dict[movie_id][\"genres\"] =line[2]\n",
        "\n",
        "    with open('content_user_to_genre.pickle', 'rb') as f:\n",
        "        user_to_genre = pickle.load(f)\n",
        "\n",
        "    return(item_train, user_train, y_train, item_features, user_features, item_vecs, movie_dict, user_to_genre)\n"
      ],
      "metadata": {
        "id": "0Zfb9EVNGJ4h"
      },
      "execution_count": 14,
      "outputs": []
    },
    {
      "cell_type": "code",
      "source": [
        "top10_df = pd.read_csv(\"content_top10_df.csv\")\n",
        "bygenre_df = pd.read_csv(\"content_bygenre_df.csv\")\n",
        "top10_df"
      ],
      "metadata": {
        "colab": {
          "base_uri": "https://localhost:8080/",
          "height": 363
        },
        "id": "68F89-xjICNA",
        "outputId": "d3675a13-5629-47bd-dada-47d2d97e8ec1"
      },
      "execution_count": 8,
      "outputs": [
        {
          "output_type": "execute_result",
          "data": {
            "text/plain": [
              "   movie id  num ratings  ave rating  \\\n",
              "0      4993          198    4.106061   \n",
              "1      5952          188    4.021277   \n",
              "2      7153          185    4.118919   \n",
              "3      4306          170    3.867647   \n",
              "4     58559          149    4.238255   \n",
              "5      6539          149    3.778523   \n",
              "6     79132          143    4.066434   \n",
              "7      6377          141    3.960993   \n",
              "8      4886          132    3.871212   \n",
              "9      7361          131    4.160305   \n",
              "\n",
              "                                               title  \\\n",
              "0  Lord of the Rings: The Fellowship of the Ring,...   \n",
              "1             Lord of the Rings: The Two Towers, The   \n",
              "2     Lord of the Rings: The Return of the King, The   \n",
              "3                                              Shrek   \n",
              "4                                   Dark Knight, The   \n",
              "5  Pirates of the Caribbean: The Curse of the Bla...   \n",
              "6                                          Inception   \n",
              "7                                       Finding Nemo   \n",
              "8                                     Monsters, Inc.   \n",
              "9              Eternal Sunshine of the Spotless Mind   \n",
              "\n",
              "                                              genres  \n",
              "0                                  Adventure|Fantasy  \n",
              "1                                  Adventure|Fantasy  \n",
              "2                     Action|Adventure|Drama|Fantasy  \n",
              "3  Adventure|Animation|Children|Comedy|Fantasy|Ro...  \n",
              "4                                 Action|Crime|Drama  \n",
              "5                    Action|Adventure|Comedy|Fantasy  \n",
              "6         Action|Crime|Drama|Mystery|Sci-Fi|Thriller  \n",
              "7                Adventure|Animation|Children|Comedy  \n",
              "8        Adventure|Animation|Children|Comedy|Fantasy  \n",
              "9                               Drama|Romance|Sci-Fi  "
            ],
            "text/html": [
              "\n",
              "\n",
              "  <div id=\"df-fa80cbe4-f64b-4f43-b122-370582411de0\">\n",
              "    <div class=\"colab-df-container\">\n",
              "      <div>\n",
              "<style scoped>\n",
              "    .dataframe tbody tr th:only-of-type {\n",
              "        vertical-align: middle;\n",
              "    }\n",
              "\n",
              "    .dataframe tbody tr th {\n",
              "        vertical-align: top;\n",
              "    }\n",
              "\n",
              "    .dataframe thead th {\n",
              "        text-align: right;\n",
              "    }\n",
              "</style>\n",
              "<table border=\"1\" class=\"dataframe\">\n",
              "  <thead>\n",
              "    <tr style=\"text-align: right;\">\n",
              "      <th></th>\n",
              "      <th>movie id</th>\n",
              "      <th>num ratings</th>\n",
              "      <th>ave rating</th>\n",
              "      <th>title</th>\n",
              "      <th>genres</th>\n",
              "    </tr>\n",
              "  </thead>\n",
              "  <tbody>\n",
              "    <tr>\n",
              "      <th>0</th>\n",
              "      <td>4993</td>\n",
              "      <td>198</td>\n",
              "      <td>4.106061</td>\n",
              "      <td>Lord of the Rings: The Fellowship of the Ring,...</td>\n",
              "      <td>Adventure|Fantasy</td>\n",
              "    </tr>\n",
              "    <tr>\n",
              "      <th>1</th>\n",
              "      <td>5952</td>\n",
              "      <td>188</td>\n",
              "      <td>4.021277</td>\n",
              "      <td>Lord of the Rings: The Two Towers, The</td>\n",
              "      <td>Adventure|Fantasy</td>\n",
              "    </tr>\n",
              "    <tr>\n",
              "      <th>2</th>\n",
              "      <td>7153</td>\n",
              "      <td>185</td>\n",
              "      <td>4.118919</td>\n",
              "      <td>Lord of the Rings: The Return of the King, The</td>\n",
              "      <td>Action|Adventure|Drama|Fantasy</td>\n",
              "    </tr>\n",
              "    <tr>\n",
              "      <th>3</th>\n",
              "      <td>4306</td>\n",
              "      <td>170</td>\n",
              "      <td>3.867647</td>\n",
              "      <td>Shrek</td>\n",
              "      <td>Adventure|Animation|Children|Comedy|Fantasy|Ro...</td>\n",
              "    </tr>\n",
              "    <tr>\n",
              "      <th>4</th>\n",
              "      <td>58559</td>\n",
              "      <td>149</td>\n",
              "      <td>4.238255</td>\n",
              "      <td>Dark Knight, The</td>\n",
              "      <td>Action|Crime|Drama</td>\n",
              "    </tr>\n",
              "    <tr>\n",
              "      <th>5</th>\n",
              "      <td>6539</td>\n",
              "      <td>149</td>\n",
              "      <td>3.778523</td>\n",
              "      <td>Pirates of the Caribbean: The Curse of the Bla...</td>\n",
              "      <td>Action|Adventure|Comedy|Fantasy</td>\n",
              "    </tr>\n",
              "    <tr>\n",
              "      <th>6</th>\n",
              "      <td>79132</td>\n",
              "      <td>143</td>\n",
              "      <td>4.066434</td>\n",
              "      <td>Inception</td>\n",
              "      <td>Action|Crime|Drama|Mystery|Sci-Fi|Thriller</td>\n",
              "    </tr>\n",
              "    <tr>\n",
              "      <th>7</th>\n",
              "      <td>6377</td>\n",
              "      <td>141</td>\n",
              "      <td>3.960993</td>\n",
              "      <td>Finding Nemo</td>\n",
              "      <td>Adventure|Animation|Children|Comedy</td>\n",
              "    </tr>\n",
              "    <tr>\n",
              "      <th>8</th>\n",
              "      <td>4886</td>\n",
              "      <td>132</td>\n",
              "      <td>3.871212</td>\n",
              "      <td>Monsters, Inc.</td>\n",
              "      <td>Adventure|Animation|Children|Comedy|Fantasy</td>\n",
              "    </tr>\n",
              "    <tr>\n",
              "      <th>9</th>\n",
              "      <td>7361</td>\n",
              "      <td>131</td>\n",
              "      <td>4.160305</td>\n",
              "      <td>Eternal Sunshine of the Spotless Mind</td>\n",
              "      <td>Drama|Romance|Sci-Fi</td>\n",
              "    </tr>\n",
              "  </tbody>\n",
              "</table>\n",
              "</div>\n",
              "      <button class=\"colab-df-convert\" onclick=\"convertToInteractive('df-fa80cbe4-f64b-4f43-b122-370582411de0')\"\n",
              "              title=\"Convert this dataframe to an interactive table.\"\n",
              "              style=\"display:none;\">\n",
              "\n",
              "  <svg xmlns=\"http://www.w3.org/2000/svg\" height=\"24px\"viewBox=\"0 0 24 24\"\n",
              "       width=\"24px\">\n",
              "    <path d=\"M0 0h24v24H0V0z\" fill=\"none\"/>\n",
              "    <path d=\"M18.56 5.44l.94 2.06.94-2.06 2.06-.94-2.06-.94-.94-2.06-.94 2.06-2.06.94zm-11 1L8.5 8.5l.94-2.06 2.06-.94-2.06-.94L8.5 2.5l-.94 2.06-2.06.94zm10 10l.94 2.06.94-2.06 2.06-.94-2.06-.94-.94-2.06-.94 2.06-2.06.94z\"/><path d=\"M17.41 7.96l-1.37-1.37c-.4-.4-.92-.59-1.43-.59-.52 0-1.04.2-1.43.59L10.3 9.45l-7.72 7.72c-.78.78-.78 2.05 0 2.83L4 21.41c.39.39.9.59 1.41.59.51 0 1.02-.2 1.41-.59l7.78-7.78 2.81-2.81c.8-.78.8-2.07 0-2.86zM5.41 20L4 18.59l7.72-7.72 1.47 1.35L5.41 20z\"/>\n",
              "  </svg>\n",
              "      </button>\n",
              "\n",
              "\n",
              "\n",
              "    <div id=\"df-8e0a1f15-5060-45f6-b740-1c7a454223f2\">\n",
              "      <button class=\"colab-df-quickchart\" onclick=\"quickchart('df-8e0a1f15-5060-45f6-b740-1c7a454223f2')\"\n",
              "              title=\"Suggest charts.\"\n",
              "              style=\"display:none;\">\n",
              "\n",
              "<svg xmlns=\"http://www.w3.org/2000/svg\" height=\"24px\"viewBox=\"0 0 24 24\"\n",
              "     width=\"24px\">\n",
              "    <g>\n",
              "        <path d=\"M19 3H5c-1.1 0-2 .9-2 2v14c0 1.1.9 2 2 2h14c1.1 0 2-.9 2-2V5c0-1.1-.9-2-2-2zM9 17H7v-7h2v7zm4 0h-2V7h2v10zm4 0h-2v-4h2v4z\"/>\n",
              "    </g>\n",
              "</svg>\n",
              "      </button>\n",
              "    </div>\n",
              "\n",
              "<style>\n",
              "  .colab-df-quickchart {\n",
              "    background-color: #E8F0FE;\n",
              "    border: none;\n",
              "    border-radius: 50%;\n",
              "    cursor: pointer;\n",
              "    display: none;\n",
              "    fill: #1967D2;\n",
              "    height: 32px;\n",
              "    padding: 0 0 0 0;\n",
              "    width: 32px;\n",
              "  }\n",
              "\n",
              "  .colab-df-quickchart:hover {\n",
              "    background-color: #E2EBFA;\n",
              "    box-shadow: 0px 1px 2px rgba(60, 64, 67, 0.3), 0px 1px 3px 1px rgba(60, 64, 67, 0.15);\n",
              "    fill: #174EA6;\n",
              "  }\n",
              "\n",
              "  [theme=dark] .colab-df-quickchart {\n",
              "    background-color: #3B4455;\n",
              "    fill: #D2E3FC;\n",
              "  }\n",
              "\n",
              "  [theme=dark] .colab-df-quickchart:hover {\n",
              "    background-color: #434B5C;\n",
              "    box-shadow: 0px 1px 3px 1px rgba(0, 0, 0, 0.15);\n",
              "    filter: drop-shadow(0px 1px 2px rgba(0, 0, 0, 0.3));\n",
              "    fill: #FFFFFF;\n",
              "  }\n",
              "</style>\n",
              "\n",
              "    <script>\n",
              "      async function quickchart(key) {\n",
              "        const containerElement = document.querySelector('#' + key);\n",
              "        const charts = await google.colab.kernel.invokeFunction(\n",
              "            'suggestCharts', [key], {});\n",
              "      }\n",
              "    </script>\n",
              "\n",
              "      <script>\n",
              "\n",
              "function displayQuickchartButton(domScope) {\n",
              "  let quickchartButtonEl =\n",
              "    domScope.querySelector('#df-8e0a1f15-5060-45f6-b740-1c7a454223f2 button.colab-df-quickchart');\n",
              "  quickchartButtonEl.style.display =\n",
              "    google.colab.kernel.accessAllowed ? 'block' : 'none';\n",
              "}\n",
              "\n",
              "        displayQuickchartButton(document);\n",
              "      </script>\n",
              "      <style>\n",
              "    .colab-df-container {\n",
              "      display:flex;\n",
              "      flex-wrap:wrap;\n",
              "      gap: 12px;\n",
              "    }\n",
              "\n",
              "    .colab-df-convert {\n",
              "      background-color: #E8F0FE;\n",
              "      border: none;\n",
              "      border-radius: 50%;\n",
              "      cursor: pointer;\n",
              "      display: none;\n",
              "      fill: #1967D2;\n",
              "      height: 32px;\n",
              "      padding: 0 0 0 0;\n",
              "      width: 32px;\n",
              "    }\n",
              "\n",
              "    .colab-df-convert:hover {\n",
              "      background-color: #E2EBFA;\n",
              "      box-shadow: 0px 1px 2px rgba(60, 64, 67, 0.3), 0px 1px 3px 1px rgba(60, 64, 67, 0.15);\n",
              "      fill: #174EA6;\n",
              "    }\n",
              "\n",
              "    [theme=dark] .colab-df-convert {\n",
              "      background-color: #3B4455;\n",
              "      fill: #D2E3FC;\n",
              "    }\n",
              "\n",
              "    [theme=dark] .colab-df-convert:hover {\n",
              "      background-color: #434B5C;\n",
              "      box-shadow: 0px 1px 3px 1px rgba(0, 0, 0, 0.15);\n",
              "      filter: drop-shadow(0px 1px 2px rgba(0, 0, 0, 0.3));\n",
              "      fill: #FFFFFF;\n",
              "    }\n",
              "  </style>\n",
              "\n",
              "      <script>\n",
              "        const buttonEl =\n",
              "          document.querySelector('#df-fa80cbe4-f64b-4f43-b122-370582411de0 button.colab-df-convert');\n",
              "        buttonEl.style.display =\n",
              "          google.colab.kernel.accessAllowed ? 'block' : 'none';\n",
              "\n",
              "        async function convertToInteractive(key) {\n",
              "          const element = document.querySelector('#df-fa80cbe4-f64b-4f43-b122-370582411de0');\n",
              "          const dataTable =\n",
              "            await google.colab.kernel.invokeFunction('convertToInteractive',\n",
              "                                                     [key], {});\n",
              "          if (!dataTable) return;\n",
              "\n",
              "          const docLinkHtml = 'Like what you see? Visit the ' +\n",
              "            '<a target=\"_blank\" href=https://colab.research.google.com/notebooks/data_table.ipynb>data table notebook</a>'\n",
              "            + ' to learn more about interactive tables.';\n",
              "          element.innerHTML = '';\n",
              "          dataTable['output_type'] = 'display_data';\n",
              "          await google.colab.output.renderOutput(dataTable, element);\n",
              "          const docLink = document.createElement('div');\n",
              "          docLink.innerHTML = docLinkHtml;\n",
              "          element.appendChild(docLink);\n",
              "        }\n",
              "      </script>\n",
              "    </div>\n",
              "  </div>\n"
            ]
          },
          "metadata": {},
          "execution_count": 8
        }
      ]
    },
    {
      "cell_type": "code",
      "source": [
        "bygenre_df\n"
      ],
      "metadata": {
        "colab": {
          "base_uri": "https://localhost:8080/",
          "height": 488
        },
        "id": "QCNpKy4XIdws",
        "outputId": "e4908fa7-559e-40d6-a9ec-8f21f0ea28fe"
      },
      "execution_count": 9,
      "outputs": [
        {
          "output_type": "execute_result",
          "data": {
            "text/plain": [
              "          genre  num movies  ave rating/genre  ratings per genre\n",
              "0        Action         321              3.37              10377\n",
              "1     Adventure         234              3.42               8785\n",
              "2     Animation          76              3.63               2588\n",
              "3      Children          69              3.44               2472\n",
              "4        Comedy         326              3.36               8911\n",
              "5         Crime         139              3.54               4671\n",
              "6   Documentary          13              3.81                280\n",
              "7         Drama         342              3.61              10201\n",
              "8       Fantasy         124              3.37               4468\n",
              "9        Horror          56              3.20               1345\n",
              "10      Mystery          68              3.59               2497\n",
              "11      Romance         151              3.39               4468\n",
              "12       Sci-Fi         174              3.42               5894\n",
              "13     Thriller         245              3.44               7659"
            ],
            "text/html": [
              "\n",
              "\n",
              "  <div id=\"df-ed192236-230a-4168-aa5b-5f79c6a8b623\">\n",
              "    <div class=\"colab-df-container\">\n",
              "      <div>\n",
              "<style scoped>\n",
              "    .dataframe tbody tr th:only-of-type {\n",
              "        vertical-align: middle;\n",
              "    }\n",
              "\n",
              "    .dataframe tbody tr th {\n",
              "        vertical-align: top;\n",
              "    }\n",
              "\n",
              "    .dataframe thead th {\n",
              "        text-align: right;\n",
              "    }\n",
              "</style>\n",
              "<table border=\"1\" class=\"dataframe\">\n",
              "  <thead>\n",
              "    <tr style=\"text-align: right;\">\n",
              "      <th></th>\n",
              "      <th>genre</th>\n",
              "      <th>num movies</th>\n",
              "      <th>ave rating/genre</th>\n",
              "      <th>ratings per genre</th>\n",
              "    </tr>\n",
              "  </thead>\n",
              "  <tbody>\n",
              "    <tr>\n",
              "      <th>0</th>\n",
              "      <td>Action</td>\n",
              "      <td>321</td>\n",
              "      <td>3.37</td>\n",
              "      <td>10377</td>\n",
              "    </tr>\n",
              "    <tr>\n",
              "      <th>1</th>\n",
              "      <td>Adventure</td>\n",
              "      <td>234</td>\n",
              "      <td>3.42</td>\n",
              "      <td>8785</td>\n",
              "    </tr>\n",
              "    <tr>\n",
              "      <th>2</th>\n",
              "      <td>Animation</td>\n",
              "      <td>76</td>\n",
              "      <td>3.63</td>\n",
              "      <td>2588</td>\n",
              "    </tr>\n",
              "    <tr>\n",
              "      <th>3</th>\n",
              "      <td>Children</td>\n",
              "      <td>69</td>\n",
              "      <td>3.44</td>\n",
              "      <td>2472</td>\n",
              "    </tr>\n",
              "    <tr>\n",
              "      <th>4</th>\n",
              "      <td>Comedy</td>\n",
              "      <td>326</td>\n",
              "      <td>3.36</td>\n",
              "      <td>8911</td>\n",
              "    </tr>\n",
              "    <tr>\n",
              "      <th>5</th>\n",
              "      <td>Crime</td>\n",
              "      <td>139</td>\n",
              "      <td>3.54</td>\n",
              "      <td>4671</td>\n",
              "    </tr>\n",
              "    <tr>\n",
              "      <th>6</th>\n",
              "      <td>Documentary</td>\n",
              "      <td>13</td>\n",
              "      <td>3.81</td>\n",
              "      <td>280</td>\n",
              "    </tr>\n",
              "    <tr>\n",
              "      <th>7</th>\n",
              "      <td>Drama</td>\n",
              "      <td>342</td>\n",
              "      <td>3.61</td>\n",
              "      <td>10201</td>\n",
              "    </tr>\n",
              "    <tr>\n",
              "      <th>8</th>\n",
              "      <td>Fantasy</td>\n",
              "      <td>124</td>\n",
              "      <td>3.37</td>\n",
              "      <td>4468</td>\n",
              "    </tr>\n",
              "    <tr>\n",
              "      <th>9</th>\n",
              "      <td>Horror</td>\n",
              "      <td>56</td>\n",
              "      <td>3.20</td>\n",
              "      <td>1345</td>\n",
              "    </tr>\n",
              "    <tr>\n",
              "      <th>10</th>\n",
              "      <td>Mystery</td>\n",
              "      <td>68</td>\n",
              "      <td>3.59</td>\n",
              "      <td>2497</td>\n",
              "    </tr>\n",
              "    <tr>\n",
              "      <th>11</th>\n",
              "      <td>Romance</td>\n",
              "      <td>151</td>\n",
              "      <td>3.39</td>\n",
              "      <td>4468</td>\n",
              "    </tr>\n",
              "    <tr>\n",
              "      <th>12</th>\n",
              "      <td>Sci-Fi</td>\n",
              "      <td>174</td>\n",
              "      <td>3.42</td>\n",
              "      <td>5894</td>\n",
              "    </tr>\n",
              "    <tr>\n",
              "      <th>13</th>\n",
              "      <td>Thriller</td>\n",
              "      <td>245</td>\n",
              "      <td>3.44</td>\n",
              "      <td>7659</td>\n",
              "    </tr>\n",
              "  </tbody>\n",
              "</table>\n",
              "</div>\n",
              "      <button class=\"colab-df-convert\" onclick=\"convertToInteractive('df-ed192236-230a-4168-aa5b-5f79c6a8b623')\"\n",
              "              title=\"Convert this dataframe to an interactive table.\"\n",
              "              style=\"display:none;\">\n",
              "\n",
              "  <svg xmlns=\"http://www.w3.org/2000/svg\" height=\"24px\"viewBox=\"0 0 24 24\"\n",
              "       width=\"24px\">\n",
              "    <path d=\"M0 0h24v24H0V0z\" fill=\"none\"/>\n",
              "    <path d=\"M18.56 5.44l.94 2.06.94-2.06 2.06-.94-2.06-.94-.94-2.06-.94 2.06-2.06.94zm-11 1L8.5 8.5l.94-2.06 2.06-.94-2.06-.94L8.5 2.5l-.94 2.06-2.06.94zm10 10l.94 2.06.94-2.06 2.06-.94-2.06-.94-.94-2.06-.94 2.06-2.06.94z\"/><path d=\"M17.41 7.96l-1.37-1.37c-.4-.4-.92-.59-1.43-.59-.52 0-1.04.2-1.43.59L10.3 9.45l-7.72 7.72c-.78.78-.78 2.05 0 2.83L4 21.41c.39.39.9.59 1.41.59.51 0 1.02-.2 1.41-.59l7.78-7.78 2.81-2.81c.8-.78.8-2.07 0-2.86zM5.41 20L4 18.59l7.72-7.72 1.47 1.35L5.41 20z\"/>\n",
              "  </svg>\n",
              "      </button>\n",
              "\n",
              "\n",
              "\n",
              "    <div id=\"df-af9c0e3d-11f9-4415-b368-52c90acf4bc9\">\n",
              "      <button class=\"colab-df-quickchart\" onclick=\"quickchart('df-af9c0e3d-11f9-4415-b368-52c90acf4bc9')\"\n",
              "              title=\"Suggest charts.\"\n",
              "              style=\"display:none;\">\n",
              "\n",
              "<svg xmlns=\"http://www.w3.org/2000/svg\" height=\"24px\"viewBox=\"0 0 24 24\"\n",
              "     width=\"24px\">\n",
              "    <g>\n",
              "        <path d=\"M19 3H5c-1.1 0-2 .9-2 2v14c0 1.1.9 2 2 2h14c1.1 0 2-.9 2-2V5c0-1.1-.9-2-2-2zM9 17H7v-7h2v7zm4 0h-2V7h2v10zm4 0h-2v-4h2v4z\"/>\n",
              "    </g>\n",
              "</svg>\n",
              "      </button>\n",
              "    </div>\n",
              "\n",
              "<style>\n",
              "  .colab-df-quickchart {\n",
              "    background-color: #E8F0FE;\n",
              "    border: none;\n",
              "    border-radius: 50%;\n",
              "    cursor: pointer;\n",
              "    display: none;\n",
              "    fill: #1967D2;\n",
              "    height: 32px;\n",
              "    padding: 0 0 0 0;\n",
              "    width: 32px;\n",
              "  }\n",
              "\n",
              "  .colab-df-quickchart:hover {\n",
              "    background-color: #E2EBFA;\n",
              "    box-shadow: 0px 1px 2px rgba(60, 64, 67, 0.3), 0px 1px 3px 1px rgba(60, 64, 67, 0.15);\n",
              "    fill: #174EA6;\n",
              "  }\n",
              "\n",
              "  [theme=dark] .colab-df-quickchart {\n",
              "    background-color: #3B4455;\n",
              "    fill: #D2E3FC;\n",
              "  }\n",
              "\n",
              "  [theme=dark] .colab-df-quickchart:hover {\n",
              "    background-color: #434B5C;\n",
              "    box-shadow: 0px 1px 3px 1px rgba(0, 0, 0, 0.15);\n",
              "    filter: drop-shadow(0px 1px 2px rgba(0, 0, 0, 0.3));\n",
              "    fill: #FFFFFF;\n",
              "  }\n",
              "</style>\n",
              "\n",
              "    <script>\n",
              "      async function quickchart(key) {\n",
              "        const containerElement = document.querySelector('#' + key);\n",
              "        const charts = await google.colab.kernel.invokeFunction(\n",
              "            'suggestCharts', [key], {});\n",
              "      }\n",
              "    </script>\n",
              "\n",
              "      <script>\n",
              "\n",
              "function displayQuickchartButton(domScope) {\n",
              "  let quickchartButtonEl =\n",
              "    domScope.querySelector('#df-af9c0e3d-11f9-4415-b368-52c90acf4bc9 button.colab-df-quickchart');\n",
              "  quickchartButtonEl.style.display =\n",
              "    google.colab.kernel.accessAllowed ? 'block' : 'none';\n",
              "}\n",
              "\n",
              "        displayQuickchartButton(document);\n",
              "      </script>\n",
              "      <style>\n",
              "    .colab-df-container {\n",
              "      display:flex;\n",
              "      flex-wrap:wrap;\n",
              "      gap: 12px;\n",
              "    }\n",
              "\n",
              "    .colab-df-convert {\n",
              "      background-color: #E8F0FE;\n",
              "      border: none;\n",
              "      border-radius: 50%;\n",
              "      cursor: pointer;\n",
              "      display: none;\n",
              "      fill: #1967D2;\n",
              "      height: 32px;\n",
              "      padding: 0 0 0 0;\n",
              "      width: 32px;\n",
              "    }\n",
              "\n",
              "    .colab-df-convert:hover {\n",
              "      background-color: #E2EBFA;\n",
              "      box-shadow: 0px 1px 2px rgba(60, 64, 67, 0.3), 0px 1px 3px 1px rgba(60, 64, 67, 0.15);\n",
              "      fill: #174EA6;\n",
              "    }\n",
              "\n",
              "    [theme=dark] .colab-df-convert {\n",
              "      background-color: #3B4455;\n",
              "      fill: #D2E3FC;\n",
              "    }\n",
              "\n",
              "    [theme=dark] .colab-df-convert:hover {\n",
              "      background-color: #434B5C;\n",
              "      box-shadow: 0px 1px 3px 1px rgba(0, 0, 0, 0.15);\n",
              "      filter: drop-shadow(0px 1px 2px rgba(0, 0, 0, 0.3));\n",
              "      fill: #FFFFFF;\n",
              "    }\n",
              "  </style>\n",
              "\n",
              "      <script>\n",
              "        const buttonEl =\n",
              "          document.querySelector('#df-ed192236-230a-4168-aa5b-5f79c6a8b623 button.colab-df-convert');\n",
              "        buttonEl.style.display =\n",
              "          google.colab.kernel.accessAllowed ? 'block' : 'none';\n",
              "\n",
              "        async function convertToInteractive(key) {\n",
              "          const element = document.querySelector('#df-ed192236-230a-4168-aa5b-5f79c6a8b623');\n",
              "          const dataTable =\n",
              "            await google.colab.kernel.invokeFunction('convertToInteractive',\n",
              "                                                     [key], {});\n",
              "          if (!dataTable) return;\n",
              "\n",
              "          const docLinkHtml = 'Like what you see? Visit the ' +\n",
              "            '<a target=\"_blank\" href=https://colab.research.google.com/notebooks/data_table.ipynb>data table notebook</a>'\n",
              "            + ' to learn more about interactive tables.';\n",
              "          element.innerHTML = '';\n",
              "          dataTable['output_type'] = 'display_data';\n",
              "          await google.colab.output.renderOutput(dataTable, element);\n",
              "          const docLink = document.createElement('div');\n",
              "          docLink.innerHTML = docLinkHtml;\n",
              "          element.appendChild(docLink);\n",
              "        }\n",
              "      </script>\n",
              "    </div>\n",
              "  </div>\n"
            ]
          },
          "metadata": {},
          "execution_count": 9
        }
      ]
    },
    {
      "cell_type": "markdown",
      "source": [
        "### Content-based filtering with a neural network"
      ],
      "metadata": {
        "id": "fpE9Z4kXJEY4"
      }
    },
    {
      "cell_type": "code",
      "source": [
        "# Load Data, set configuration variables\n",
        "item_train, user_train, y_train, item_features, user_features, item_vecs, movie_dict, user_to_genre = load_data_my()\n",
        "\n",
        "num_user_features = user_train.shape[1] - 3  # remove userid, rating count and ave rating during training\n",
        "num_item_features = item_train.shape[1] - 1  # remove movie id at train time\n",
        "uvs = 3  # user genre vector start\n",
        "ivs = 3  # item genre vector start\n",
        "u_s = 3  # start of columns to use in training, user\n",
        "i_s = 1  # start of columns to use in training, items\n",
        "print(f\"Number of training vectors: {len(item_train)}\")"
      ],
      "metadata": {
        "colab": {
          "base_uri": "https://localhost:8080/"
        },
        "id": "-KMeJbJrJBQq",
        "outputId": "2a59f25a-f959-43a4-b619-9501e6c71a5d"
      },
      "execution_count": 40,
      "outputs": [
        {
          "output_type": "stream",
          "name": "stdout",
          "text": [
            "Number of training vectors: 58187\n"
          ]
        }
      ]
    },
    {
      "cell_type": "code",
      "source": [
        "pprint_train(item_train, item_features, ivs, i_s, maxcount=5, user=False)"
      ],
      "metadata": {
        "colab": {
          "base_uri": "https://localhost:8080/",
          "height": 108
        },
        "id": "UG5NBozrI-XM",
        "outputId": "346ee2ca-7c21-468a-a508-09784cf930c6"
      },
      "execution_count": 20,
      "outputs": [
        {
          "output_type": "execute_result",
          "data": {
            "text/plain": [
              "'<table>\\n<thead>\\n<tr><th style=\"text-align: center;\"> [movie id] </th><th style=\"text-align: center;\"> year </th><th style=\"text-align: center;\"> ave rating </th><th style=\"text-align: center;\"> Act ion </th><th style=\"text-align: center;\"> Adve nture </th><th style=\"text-align: center;\"> Anim ation </th><th style=\"text-align: center;\"> Chil dren </th><th style=\"text-align: center;\"> Com edy </th><th style=\"text-align: center;\"> Crime </th><th style=\"text-align: center;\"> Docum entary </th><th style=\"text-align: center;\"> Drama </th><th style=\"text-align: center;\"> Fan tasy </th><th style=\"text-align: center;\"> Hor ror </th><th style=\"text-align: center;\"> Mys tery </th><th style=\"text-align: center;\"> Rom ance </th><th style=\"text-align: center;\"> Sci -Fi </th><th style=\"text-align: center;\"> Thri ller </th></tr>\\n</thead>\\n<tbody>\\n<tr><td style=\"text-align: center;\">    6874    </td><td style=\"text-align: center;\"> 2003 </td><td style=\"text-align: center;\">    4.0     </td><td style=\"text-align: center;\">    1    </td><td style=\"text-align: center;\">     0      </td><td style=\"text-align: center;\">     0      </td><td style=\"text-align: center;\">     0     </td><td style=\"text-align: center;\">    0    </td><td style=\"text-align: center;\">   0   </td><td style=\"text-align: center;\">      0       </td><td style=\"text-align: center;\">   0   </td><td style=\"text-align: center;\">    0     </td><td style=\"text-align: center;\">    0    </td><td style=\"text-align: center;\">    0     </td><td style=\"text-align: center;\">    0     </td><td style=\"text-align: center;\">    0    </td><td style=\"text-align: center;\">     0     </td></tr>\\n<tr><td style=\"text-align: center;\">    6874    </td><td style=\"text-align: center;\"> 2003 </td><td style=\"text-align: center;\">    4.0     </td><td style=\"text-align: center;\">    0    </td><td style=\"text-align: center;\">     0      </td><td style=\"text-align: center;\">     0      </td><td style=\"text-align: center;\">     0     </td><td style=\"text-align: center;\">    0    </td><td style=\"text-align: center;\">   1   </td><td style=\"text-align: center;\">      0       </td><td style=\"text-align: center;\">   0   </td><td style=\"text-align: center;\">    0     </td><td style=\"text-align: center;\">    0    </td><td style=\"text-align: center;\">    0     </td><td style=\"text-align: center;\">    0     </td><td style=\"text-align: center;\">    0    </td><td style=\"text-align: center;\">     0     </td></tr>\\n<tr><td style=\"text-align: center;\">    6874    </td><td style=\"text-align: center;\"> 2003 </td><td style=\"text-align: center;\">    4.0     </td><td style=\"text-align: center;\">    0    </td><td style=\"text-align: center;\">     0      </td><td style=\"text-align: center;\">     0      </td><td style=\"text-align: center;\">     0     </td><td style=\"text-align: center;\">    0    </td><td style=\"text-align: center;\">   0   </td><td style=\"text-align: center;\">      0       </td><td style=\"text-align: center;\">   0   </td><td style=\"text-align: center;\">    0     </td><td style=\"text-align: center;\">    0    </td><td style=\"text-align: center;\">    0     </td><td style=\"text-align: center;\">    0     </td><td style=\"text-align: center;\">    0    </td><td style=\"text-align: center;\">     1     </td></tr>\\n<tr><td style=\"text-align: center;\">    8798    </td><td style=\"text-align: center;\"> 2004 </td><td style=\"text-align: center;\">    3.8     </td><td style=\"text-align: center;\">    1    </td><td style=\"text-align: center;\">     0      </td><td style=\"text-align: center;\">     0      </td><td style=\"text-align: center;\">     0     </td><td style=\"text-align: center;\">    0    </td><td style=\"text-align: center;\">   0   </td><td style=\"text-align: center;\">      0       </td><td style=\"text-align: center;\">   0   </td><td style=\"text-align: center;\">    0     </td><td style=\"text-align: center;\">    0    </td><td style=\"text-align: center;\">    0     </td><td style=\"text-align: center;\">    0     </td><td style=\"text-align: center;\">    0    </td><td style=\"text-align: center;\">     0     </td></tr>\\n<tr><td style=\"text-align: center;\">    8798    </td><td style=\"text-align: center;\"> 2004 </td><td style=\"text-align: center;\">    3.8     </td><td style=\"text-align: center;\">    0    </td><td style=\"text-align: center;\">     0      </td><td style=\"text-align: center;\">     0      </td><td style=\"text-align: center;\">     0     </td><td style=\"text-align: center;\">    0    </td><td style=\"text-align: center;\">   1   </td><td style=\"text-align: center;\">      0       </td><td style=\"text-align: center;\">   0   </td><td style=\"text-align: center;\">    0     </td><td style=\"text-align: center;\">    0    </td><td style=\"text-align: center;\">    0     </td><td style=\"text-align: center;\">    0     </td><td style=\"text-align: center;\">    0    </td><td style=\"text-align: center;\">     0     </td></tr>\\n</tbody>\\n</table>'"
            ],
            "text/html": [
              "<table>\n",
              "<thead>\n",
              "<tr><th style=\"text-align: center;\"> [movie id] </th><th style=\"text-align: center;\"> year </th><th style=\"text-align: center;\"> ave rating </th><th style=\"text-align: center;\"> Act ion </th><th style=\"text-align: center;\"> Adve nture </th><th style=\"text-align: center;\"> Anim ation </th><th style=\"text-align: center;\"> Chil dren </th><th style=\"text-align: center;\"> Com edy </th><th style=\"text-align: center;\"> Crime </th><th style=\"text-align: center;\"> Docum entary </th><th style=\"text-align: center;\"> Drama </th><th style=\"text-align: center;\"> Fan tasy </th><th style=\"text-align: center;\"> Hor ror </th><th style=\"text-align: center;\"> Mys tery </th><th style=\"text-align: center;\"> Rom ance </th><th style=\"text-align: center;\"> Sci -Fi </th><th style=\"text-align: center;\"> Thri ller </th></tr>\n",
              "</thead>\n",
              "<tbody>\n",
              "<tr><td style=\"text-align: center;\">    6874    </td><td style=\"text-align: center;\"> 2003 </td><td style=\"text-align: center;\">    4.0     </td><td style=\"text-align: center;\">    1    </td><td style=\"text-align: center;\">     0      </td><td style=\"text-align: center;\">     0      </td><td style=\"text-align: center;\">     0     </td><td style=\"text-align: center;\">    0    </td><td style=\"text-align: center;\">   0   </td><td style=\"text-align: center;\">      0       </td><td style=\"text-align: center;\">   0   </td><td style=\"text-align: center;\">    0     </td><td style=\"text-align: center;\">    0    </td><td style=\"text-align: center;\">    0     </td><td style=\"text-align: center;\">    0     </td><td style=\"text-align: center;\">    0    </td><td style=\"text-align: center;\">     0     </td></tr>\n",
              "<tr><td style=\"text-align: center;\">    6874    </td><td style=\"text-align: center;\"> 2003 </td><td style=\"text-align: center;\">    4.0     </td><td style=\"text-align: center;\">    0    </td><td style=\"text-align: center;\">     0      </td><td style=\"text-align: center;\">     0      </td><td style=\"text-align: center;\">     0     </td><td style=\"text-align: center;\">    0    </td><td style=\"text-align: center;\">   1   </td><td style=\"text-align: center;\">      0       </td><td style=\"text-align: center;\">   0   </td><td style=\"text-align: center;\">    0     </td><td style=\"text-align: center;\">    0    </td><td style=\"text-align: center;\">    0     </td><td style=\"text-align: center;\">    0     </td><td style=\"text-align: center;\">    0    </td><td style=\"text-align: center;\">     0     </td></tr>\n",
              "<tr><td style=\"text-align: center;\">    6874    </td><td style=\"text-align: center;\"> 2003 </td><td style=\"text-align: center;\">    4.0     </td><td style=\"text-align: center;\">    0    </td><td style=\"text-align: center;\">     0      </td><td style=\"text-align: center;\">     0      </td><td style=\"text-align: center;\">     0     </td><td style=\"text-align: center;\">    0    </td><td style=\"text-align: center;\">   0   </td><td style=\"text-align: center;\">      0       </td><td style=\"text-align: center;\">   0   </td><td style=\"text-align: center;\">    0     </td><td style=\"text-align: center;\">    0    </td><td style=\"text-align: center;\">    0     </td><td style=\"text-align: center;\">    0     </td><td style=\"text-align: center;\">    0    </td><td style=\"text-align: center;\">     1     </td></tr>\n",
              "<tr><td style=\"text-align: center;\">    8798    </td><td style=\"text-align: center;\"> 2004 </td><td style=\"text-align: center;\">    3.8     </td><td style=\"text-align: center;\">    1    </td><td style=\"text-align: center;\">     0      </td><td style=\"text-align: center;\">     0      </td><td style=\"text-align: center;\">     0     </td><td style=\"text-align: center;\">    0    </td><td style=\"text-align: center;\">   0   </td><td style=\"text-align: center;\">      0       </td><td style=\"text-align: center;\">   0   </td><td style=\"text-align: center;\">    0     </td><td style=\"text-align: center;\">    0    </td><td style=\"text-align: center;\">    0     </td><td style=\"text-align: center;\">    0     </td><td style=\"text-align: center;\">    0    </td><td style=\"text-align: center;\">     0     </td></tr>\n",
              "<tr><td style=\"text-align: center;\">    8798    </td><td style=\"text-align: center;\"> 2004 </td><td style=\"text-align: center;\">    3.8     </td><td style=\"text-align: center;\">    0    </td><td style=\"text-align: center;\">     0      </td><td style=\"text-align: center;\">     0      </td><td style=\"text-align: center;\">     0     </td><td style=\"text-align: center;\">    0    </td><td style=\"text-align: center;\">   1   </td><td style=\"text-align: center;\">      0       </td><td style=\"text-align: center;\">   0   </td><td style=\"text-align: center;\">    0     </td><td style=\"text-align: center;\">    0    </td><td style=\"text-align: center;\">    0     </td><td style=\"text-align: center;\">    0     </td><td style=\"text-align: center;\">    0    </td><td style=\"text-align: center;\">     0     </td></tr>\n",
              "</tbody>\n",
              "</table>"
            ],
            "application/vnd.google.colaboratory.intrinsic+json": {
              "type": "string"
            }
          },
          "metadata": {},
          "execution_count": 20
        }
      ]
    },
    {
      "cell_type": "code",
      "source": [
        "print(f\"y_train[:5]: {y_train[:5]}\")"
      ],
      "metadata": {
        "colab": {
          "base_uri": "https://localhost:8080/"
        },
        "id": "M1Th4w2EJqpJ",
        "outputId": "dc3e90d3-457e-4cb6-c992-2ef52d3dba94"
      },
      "execution_count": 21,
      "outputs": [
        {
          "output_type": "stream",
          "name": "stdout",
          "text": [
            "y_train[:5]: [4.  4.  4.  3.5 3.5]\n"
          ]
        }
      ]
    },
    {
      "cell_type": "code",
      "source": [
        "# scale training data\n",
        "item_train_unscaled = item_train\n",
        "user_train_unscaled = user_train\n",
        "y_train_unscaled    = y_train\n",
        "\n",
        "scalerItem = StandardScaler()\n",
        "scalerItem.fit(item_train)\n",
        "item_train = scalerItem.transform(item_train)\n",
        "\n",
        "scalerUser = StandardScaler()\n",
        "scalerUser.fit(user_train)\n",
        "user_train = scalerUser.transform(user_train)\n",
        "\n",
        "scalerTarget = MinMaxScaler((-1, 1))\n",
        "scalerTarget.fit(y_train.reshape(-1, 1))\n",
        "y_train = scalerTarget.transform(y_train.reshape(-1, 1))\n",
        "#ynorm_test = scalerTarget.transform(y_test.reshape(-1, 1))\n",
        "\n",
        "print(np.allclose(item_train_unscaled, scalerItem.inverse_transform(item_train)))\n",
        "print(np.allclose(user_train_unscaled, scalerUser.inverse_transform(user_train)))"
      ],
      "metadata": {
        "colab": {
          "base_uri": "https://localhost:8080/"
        },
        "id": "prA2rtD3KCEY",
        "outputId": "82c53364-7637-45b7-c623-5c0a2b358e29"
      },
      "execution_count": 22,
      "outputs": [
        {
          "output_type": "stream",
          "name": "stdout",
          "text": [
            "True\n",
            "True\n"
          ]
        }
      ]
    },
    {
      "cell_type": "code",
      "source": [
        "item_train, item_test = train_test_split(item_train, train_size=0.80, shuffle=True, random_state=1)\n",
        "user_train, user_test = train_test_split(user_train, train_size=0.80, shuffle=True, random_state=1)\n",
        "y_train, y_test = train_test_split(y_train,    train_size=0.80, shuffle=True, random_state=1)\n",
        "\n",
        "print(f\"movie/item training data shape: {item_train.shape}\")\n",
        "print(f\"movie/item test data shape: {item_test.shape}\")"
      ],
      "metadata": {
        "colab": {
          "base_uri": "https://localhost:8080/"
        },
        "id": "x_g1JdFLKOv8",
        "outputId": "32ae0180-7e48-4d9e-e33c-32940957d4c4"
      },
      "execution_count": 24,
      "outputs": [
        {
          "output_type": "stream",
          "name": "stdout",
          "text": [
            "movie/item training data shape: (37239, 17)\n",
            "movie/item test data shape: (9310, 17)\n"
          ]
        }
      ]
    },
    {
      "cell_type": "code",
      "source": [
        "pprint_train(user_train, user_features, uvs, u_s, maxcount=5)"
      ],
      "metadata": {
        "colab": {
          "base_uri": "https://localhost:8080/",
          "height": 108
        },
        "id": "FeEBju9FKSV1",
        "outputId": "dbfc2891-579d-4a98-efae-848de3f2c1d7"
      },
      "execution_count": 25,
      "outputs": [
        {
          "output_type": "execute_result",
          "data": {
            "text/plain": [
              "'<table>\\n<thead>\\n<tr><th style=\"text-align: center;\"> [user id] </th><th style=\"text-align: center;\"> [rating count] </th><th style=\"text-align: center;\"> [rating ave] </th><th style=\"text-align: center;\"> Act ion </th><th style=\"text-align: center;\"> Adve nture </th><th style=\"text-align: center;\"> Anim ation </th><th style=\"text-align: center;\"> Chil dren </th><th style=\"text-align: center;\"> Com edy </th><th style=\"text-align: center;\"> Crime </th><th style=\"text-align: center;\"> Docum entary </th><th style=\"text-align: center;\"> Drama </th><th style=\"text-align: center;\"> Fan tasy </th><th style=\"text-align: center;\"> Hor ror </th><th style=\"text-align: center;\"> Mys tery </th><th style=\"text-align: center;\"> Rom ance </th><th style=\"text-align: center;\"> Sci -Fi </th><th style=\"text-align: center;\"> Thri ller </th></tr>\\n</thead>\\n<tbody>\\n<tr><td style=\"text-align: center;\">     0     </td><td style=\"text-align: center;\">       -1       </td><td style=\"text-align: center;\">     0.5      </td><td style=\"text-align: center;\">   0.4   </td><td style=\"text-align: center;\">    0.5     </td><td style=\"text-align: center;\">    -1.6    </td><td style=\"text-align: center;\">   -0.4    </td><td style=\"text-align: center;\">   0.6   </td><td style=\"text-align: center;\">  0.5  </td><td style=\"text-align: center;\">     -1.2     </td><td style=\"text-align: center;\">  0.4  </td><td style=\"text-align: center;\">   0.8    </td><td style=\"text-align: center;\">  -0.3   </td><td style=\"text-align: center;\">   0.5    </td><td style=\"text-align: center;\">   -0.3   </td><td style=\"text-align: center;\">  -0.2   </td><td style=\"text-align: center;\">    0.2    </td></tr>\\n<tr><td style=\"text-align: center;\">     0     </td><td style=\"text-align: center;\">       0        </td><td style=\"text-align: center;\">     -0.7     </td><td style=\"text-align: center;\">  -0.9   </td><td style=\"text-align: center;\">    -0.8    </td><td style=\"text-align: center;\">    -0.7    </td><td style=\"text-align: center;\">   -0.2    </td><td style=\"text-align: center;\">  -0.6   </td><td style=\"text-align: center;\"> -0.1  </td><td style=\"text-align: center;\">     0.7      </td><td style=\"text-align: center;\"> -0.1  </td><td style=\"text-align: center;\">   -0.2   </td><td style=\"text-align: center;\">   0.0   </td><td style=\"text-align: center;\">   0.1    </td><td style=\"text-align: center;\">   -0.4   </td><td style=\"text-align: center;\">  -0.4   </td><td style=\"text-align: center;\">   -0.4    </td></tr>\\n<tr><td style=\"text-align: center;\">     0     </td><td style=\"text-align: center;\">       -1       </td><td style=\"text-align: center;\">     -0.5     </td><td style=\"text-align: center;\">  -1.7   </td><td style=\"text-align: center;\">    -1.6    </td><td style=\"text-align: center;\">    1.5     </td><td style=\"text-align: center;\">    1.6    </td><td style=\"text-align: center;\">  -0.6   </td><td style=\"text-align: center;\"> -4.4  </td><td style=\"text-align: center;\">     -1.2     </td><td style=\"text-align: center;\">  0.3  </td><td style=\"text-align: center;\">   -1.9   </td><td style=\"text-align: center;\">  -2.1   </td><td style=\"text-align: center;\">   -3.8   </td><td style=\"text-align: center;\">   0.7    </td><td style=\"text-align: center;\">  -0.1   </td><td style=\"text-align: center;\">   -1.0    </td></tr>\\n<tr><td style=\"text-align: center;\">    -1     </td><td style=\"text-align: center;\">       0        </td><td style=\"text-align: center;\">     1.9      </td><td style=\"text-align: center;\">   1.5   </td><td style=\"text-align: center;\">    1.5     </td><td style=\"text-align: center;\">    1.2     </td><td style=\"text-align: center;\">    1.1    </td><td style=\"text-align: center;\">   1.6   </td><td style=\"text-align: center;\">  1.3  </td><td style=\"text-align: center;\">     1.2      </td><td style=\"text-align: center;\">  1.8  </td><td style=\"text-align: center;\">   1.3    </td><td style=\"text-align: center;\">   1.2   </td><td style=\"text-align: center;\">   1.1    </td><td style=\"text-align: center;\">   1.4    </td><td style=\"text-align: center;\">   1.4   </td><td style=\"text-align: center;\">    1.5    </td></tr>\\n<tr><td style=\"text-align: center;\">     0     </td><td style=\"text-align: center;\">       0        </td><td style=\"text-align: center;\">     0.5      </td><td style=\"text-align: center;\">   0.7   </td><td style=\"text-align: center;\">    1.3     </td><td style=\"text-align: center;\">    -0.0    </td><td style=\"text-align: center;\">   -3.3    </td><td style=\"text-align: center;\">   0.3   </td><td style=\"text-align: center;\">  0.3  </td><td style=\"text-align: center;\">     1.5      </td><td style=\"text-align: center;\"> -0.7  </td><td style=\"text-align: center;\">   1.9    </td><td style=\"text-align: center;\">   0.9   </td><td style=\"text-align: center;\">   -0.4   </td><td style=\"text-align: center;\">   0.0    </td><td style=\"text-align: center;\">   0.5   </td><td style=\"text-align: center;\">    0.2    </td></tr>\\n</tbody>\\n</table>'"
            ],
            "text/html": [
              "<table>\n",
              "<thead>\n",
              "<tr><th style=\"text-align: center;\"> [user id] </th><th style=\"text-align: center;\"> [rating count] </th><th style=\"text-align: center;\"> [rating ave] </th><th style=\"text-align: center;\"> Act ion </th><th style=\"text-align: center;\"> Adve nture </th><th style=\"text-align: center;\"> Anim ation </th><th style=\"text-align: center;\"> Chil dren </th><th style=\"text-align: center;\"> Com edy </th><th style=\"text-align: center;\"> Crime </th><th style=\"text-align: center;\"> Docum entary </th><th style=\"text-align: center;\"> Drama </th><th style=\"text-align: center;\"> Fan tasy </th><th style=\"text-align: center;\"> Hor ror </th><th style=\"text-align: center;\"> Mys tery </th><th style=\"text-align: center;\"> Rom ance </th><th style=\"text-align: center;\"> Sci -Fi </th><th style=\"text-align: center;\"> Thri ller </th></tr>\n",
              "</thead>\n",
              "<tbody>\n",
              "<tr><td style=\"text-align: center;\">     0     </td><td style=\"text-align: center;\">       -1       </td><td style=\"text-align: center;\">     0.5      </td><td style=\"text-align: center;\">   0.4   </td><td style=\"text-align: center;\">    0.5     </td><td style=\"text-align: center;\">    -1.6    </td><td style=\"text-align: center;\">   -0.4    </td><td style=\"text-align: center;\">   0.6   </td><td style=\"text-align: center;\">  0.5  </td><td style=\"text-align: center;\">     -1.2     </td><td style=\"text-align: center;\">  0.4  </td><td style=\"text-align: center;\">   0.8    </td><td style=\"text-align: center;\">  -0.3   </td><td style=\"text-align: center;\">   0.5    </td><td style=\"text-align: center;\">   -0.3   </td><td style=\"text-align: center;\">  -0.2   </td><td style=\"text-align: center;\">    0.2    </td></tr>\n",
              "<tr><td style=\"text-align: center;\">     0     </td><td style=\"text-align: center;\">       0        </td><td style=\"text-align: center;\">     -0.7     </td><td style=\"text-align: center;\">  -0.9   </td><td style=\"text-align: center;\">    -0.8    </td><td style=\"text-align: center;\">    -0.7    </td><td style=\"text-align: center;\">   -0.2    </td><td style=\"text-align: center;\">  -0.6   </td><td style=\"text-align: center;\"> -0.1  </td><td style=\"text-align: center;\">     0.7      </td><td style=\"text-align: center;\"> -0.1  </td><td style=\"text-align: center;\">   -0.2   </td><td style=\"text-align: center;\">   0.0   </td><td style=\"text-align: center;\">   0.1    </td><td style=\"text-align: center;\">   -0.4   </td><td style=\"text-align: center;\">  -0.4   </td><td style=\"text-align: center;\">   -0.4    </td></tr>\n",
              "<tr><td style=\"text-align: center;\">     0     </td><td style=\"text-align: center;\">       -1       </td><td style=\"text-align: center;\">     -0.5     </td><td style=\"text-align: center;\">  -1.7   </td><td style=\"text-align: center;\">    -1.6    </td><td style=\"text-align: center;\">    1.5     </td><td style=\"text-align: center;\">    1.6    </td><td style=\"text-align: center;\">  -0.6   </td><td style=\"text-align: center;\"> -4.4  </td><td style=\"text-align: center;\">     -1.2     </td><td style=\"text-align: center;\">  0.3  </td><td style=\"text-align: center;\">   -1.9   </td><td style=\"text-align: center;\">  -2.1   </td><td style=\"text-align: center;\">   -3.8   </td><td style=\"text-align: center;\">   0.7    </td><td style=\"text-align: center;\">  -0.1   </td><td style=\"text-align: center;\">   -1.0    </td></tr>\n",
              "<tr><td style=\"text-align: center;\">    -1     </td><td style=\"text-align: center;\">       0        </td><td style=\"text-align: center;\">     1.9      </td><td style=\"text-align: center;\">   1.5   </td><td style=\"text-align: center;\">    1.5     </td><td style=\"text-align: center;\">    1.2     </td><td style=\"text-align: center;\">    1.1    </td><td style=\"text-align: center;\">   1.6   </td><td style=\"text-align: center;\">  1.3  </td><td style=\"text-align: center;\">     1.2      </td><td style=\"text-align: center;\">  1.8  </td><td style=\"text-align: center;\">   1.3    </td><td style=\"text-align: center;\">   1.2   </td><td style=\"text-align: center;\">   1.1    </td><td style=\"text-align: center;\">   1.4    </td><td style=\"text-align: center;\">   1.4   </td><td style=\"text-align: center;\">    1.5    </td></tr>\n",
              "<tr><td style=\"text-align: center;\">     0     </td><td style=\"text-align: center;\">       0        </td><td style=\"text-align: center;\">     0.5      </td><td style=\"text-align: center;\">   0.7   </td><td style=\"text-align: center;\">    1.3     </td><td style=\"text-align: center;\">    -0.0    </td><td style=\"text-align: center;\">   -3.3    </td><td style=\"text-align: center;\">   0.3   </td><td style=\"text-align: center;\">  0.3  </td><td style=\"text-align: center;\">     1.5      </td><td style=\"text-align: center;\"> -0.7  </td><td style=\"text-align: center;\">   1.9    </td><td style=\"text-align: center;\">   0.9   </td><td style=\"text-align: center;\">   -0.4   </td><td style=\"text-align: center;\">   0.0    </td><td style=\"text-align: center;\">   0.5   </td><td style=\"text-align: center;\">    0.2    </td></tr>\n",
              "</tbody>\n",
              "</table>"
            ],
            "application/vnd.google.colaboratory.intrinsic+json": {
              "type": "string"
            }
          },
          "metadata": {},
          "execution_count": 25
        }
      ]
    },
    {
      "cell_type": "markdown",
      "source": [
        "### Neural Network for content based filtering"
      ],
      "metadata": {
        "id": "LAAj_5OhKfdN"
      }
    },
    {
      "cell_type": "code",
      "source": [
        "num_outputs = 32\n",
        "tf.random.set_seed(1)\n",
        "\n",
        "user_NN = tf.keras.models.Sequential(\n",
        "    [\n",
        "        tf.keras.layers.Dense(256, activation='relu'),\n",
        "        tf.keras.layers.Dense(128, activation='relu'),\n",
        "        tf.keras.layers.Dense(num_outputs, activation='linear'),\n",
        "    ]\n",
        ")\n",
        "\n",
        "item_NN = tf.keras.models.Sequential(\n",
        "    [\n",
        "        tf.keras.layers.Dense(256, activation='relu'),\n",
        "        tf.keras.layers.Dense(128, activation='relu'),\n",
        "        tf.keras.layers.Dense(num_outputs, activation='linear'),\n",
        "    ]\n",
        ")\n",
        "\n",
        "input_user = tf.keras.layers.Input(shape=(num_user_features))\n",
        "vu = user_NN(input_user)\n",
        "vu = tf.linalg.l2_normalize(vu, axis=1)\n",
        "\n",
        "input_item = tf.keras.layers.Input(shape=(num_item_features))\n",
        "vm = item_NN(input_item)\n",
        "vm = tf.linalg.l2_normalize(vm, axis=1)\n",
        "\n",
        "output = tf.keras.layers.Dot(axes=1) ([vu, vm])\n",
        "\n",
        "model = tf.keras.Model([input_user, input_item], output)\n",
        "\n",
        "model.summary()"
      ],
      "metadata": {
        "colab": {
          "base_uri": "https://localhost:8080/"
        },
        "id": "SuyRYESoKdQw",
        "outputId": "9d0317aa-c198-4038-8b54-31df4c3f7aee"
      },
      "execution_count": 27,
      "outputs": [
        {
          "output_type": "stream",
          "name": "stdout",
          "text": [
            "Model: \"model\"\n",
            "__________________________________________________________________________________________________\n",
            " Layer (type)                   Output Shape         Param #     Connected to                     \n",
            "==================================================================================================\n",
            " input_1 (InputLayer)           [(None, 14)]         0           []                               \n",
            "                                                                                                  \n",
            " input_2 (InputLayer)           [(None, 16)]         0           []                               \n",
            "                                                                                                  \n",
            " sequential (Sequential)        (None, 32)           40864       ['input_1[0][0]']                \n",
            "                                                                                                  \n",
            " sequential_1 (Sequential)      (None, 32)           41376       ['input_2[0][0]']                \n",
            "                                                                                                  \n",
            " tf.math.l2_normalize (TFOpLamb  (None, 32)          0           ['sequential[0][0]']             \n",
            " da)                                                                                              \n",
            "                                                                                                  \n",
            " tf.math.l2_normalize_1 (TFOpLa  (None, 32)          0           ['sequential_1[0][0]']           \n",
            " mbda)                                                                                            \n",
            "                                                                                                  \n",
            " dot (Dot)                      (None, 1)            0           ['tf.math.l2_normalize[0][0]',   \n",
            "                                                                  'tf.math.l2_normalize_1[0][0]'] \n",
            "                                                                                                  \n",
            "==================================================================================================\n",
            "Total params: 82,240\n",
            "Trainable params: 82,240\n",
            "Non-trainable params: 0\n",
            "__________________________________________________________________________________________________\n"
          ]
        }
      ]
    },
    {
      "cell_type": "code",
      "source": [
        "tf.random.set_seed(1)\n",
        "cost_fn = tf.keras.losses.MeanSquaredError()\n",
        "\n",
        "opt = keras.optimizers.Adam(learning_rate=0.01)\n",
        "\n",
        "model.compile(optimizer=opt, loss=cost_fn)"
      ],
      "metadata": {
        "id": "kJtLigGOLcvy"
      },
      "execution_count": 29,
      "outputs": []
    },
    {
      "cell_type": "code",
      "source": [
        "tf.random.set_seed(1)\n",
        "model.fit([user_train[:, u_s:], item_train[:, i_s:]], y_train, epochs=30)"
      ],
      "metadata": {
        "colab": {
          "base_uri": "https://localhost:8080/"
        },
        "id": "XVb9D7arL-ot",
        "outputId": "e498d6f8-73b4-43a7-96fd-cc5c77221d6c"
      },
      "execution_count": 31,
      "outputs": [
        {
          "output_type": "stream",
          "name": "stdout",
          "text": [
            "Epoch 1/30\n",
            "1164/1164 [==============================] - 6s 3ms/step - loss: 0.1271\n",
            "Epoch 2/30\n",
            "1164/1164 [==============================] - 5s 4ms/step - loss: 0.1200\n",
            "Epoch 3/30\n",
            "1164/1164 [==============================] - 4s 3ms/step - loss: 0.1175\n",
            "Epoch 4/30\n",
            "1164/1164 [==============================] - 4s 3ms/step - loss: 0.1163\n",
            "Epoch 5/30\n",
            "1164/1164 [==============================] - 5s 4ms/step - loss: 0.1149\n",
            "Epoch 6/30\n",
            "1164/1164 [==============================] - 4s 3ms/step - loss: 0.1140\n",
            "Epoch 7/30\n",
            "1164/1164 [==============================] - 4s 3ms/step - loss: 0.1132\n",
            "Epoch 8/30\n",
            "1164/1164 [==============================] - 4s 4ms/step - loss: 0.1120\n",
            "Epoch 9/30\n",
            "1164/1164 [==============================] - 4s 4ms/step - loss: 0.1113\n",
            "Epoch 10/30\n",
            "1164/1164 [==============================] - 4s 3ms/step - loss: 0.1105\n",
            "Epoch 11/30\n",
            "1164/1164 [==============================] - 4s 3ms/step - loss: 0.1095\n",
            "Epoch 12/30\n",
            "1164/1164 [==============================] - 5s 4ms/step - loss: 0.1087\n",
            "Epoch 13/30\n",
            "1164/1164 [==============================] - 4s 3ms/step - loss: 0.1077\n",
            "Epoch 14/30\n",
            "1164/1164 [==============================] - 4s 3ms/step - loss: 0.1069\n",
            "Epoch 15/30\n",
            "1164/1164 [==============================] - 5s 4ms/step - loss: 0.1061\n",
            "Epoch 16/30\n",
            "1164/1164 [==============================] - 4s 3ms/step - loss: 0.1051\n",
            "Epoch 17/30\n",
            "1164/1164 [==============================] - 4s 3ms/step - loss: 0.1044\n",
            "Epoch 18/30\n",
            "1164/1164 [==============================] - 5s 4ms/step - loss: 0.1038\n",
            "Epoch 19/30\n",
            "1164/1164 [==============================] - 4s 3ms/step - loss: 0.1034\n",
            "Epoch 20/30\n",
            "1164/1164 [==============================] - 4s 3ms/step - loss: 0.1027\n",
            "Epoch 21/30\n",
            "1164/1164 [==============================] - 5s 4ms/step - loss: 0.1023\n",
            "Epoch 22/30\n",
            "1164/1164 [==============================] - 4s 3ms/step - loss: 0.1019\n",
            "Epoch 23/30\n",
            "1164/1164 [==============================] - 4s 3ms/step - loss: 0.1014\n",
            "Epoch 24/30\n",
            "1164/1164 [==============================] - 4s 4ms/step - loss: 0.1010\n",
            "Epoch 25/30\n",
            "1164/1164 [==============================] - 4s 4ms/step - loss: 0.1008\n",
            "Epoch 26/30\n",
            "1164/1164 [==============================] - 4s 3ms/step - loss: 0.1003\n",
            "Epoch 27/30\n",
            "1164/1164 [==============================] - 4s 3ms/step - loss: 0.1000\n",
            "Epoch 28/30\n",
            "1164/1164 [==============================] - 5s 4ms/step - loss: 0.0998\n",
            "Epoch 29/30\n",
            "1164/1164 [==============================] - 4s 3ms/step - loss: 0.0995\n",
            "Epoch 30/30\n",
            "1164/1164 [==============================] - 4s 3ms/step - loss: 0.0992\n"
          ]
        },
        {
          "output_type": "execute_result",
          "data": {
            "text/plain": [
              "<keras.callbacks.History at 0x7d9498b66380>"
            ]
          },
          "metadata": {},
          "execution_count": 31
        }
      ]
    },
    {
      "cell_type": "markdown",
      "source": [
        "## Predictions\n"
      ],
      "metadata": {
        "id": "ldvnkkj8MyqJ"
      }
    },
    {
      "cell_type": "code",
      "source": [
        "new_user_id = 5000\n",
        "new_rating_ave = 0.0\n",
        "new_action = 0.0\n",
        "new_adventure = 5.0\n",
        "new_animation = 0.0\n",
        "new_childrens = 0.0\n",
        "new_comedy = 0.0\n",
        "new_crime = 0.0\n",
        "new_documentary = 0.0\n",
        "new_drama = 0.0\n",
        "new_fantasy = 5.0\n",
        "new_horror = 0.0\n",
        "new_mystery = 0.0\n",
        "new_romance = 0.0\n",
        "new_scifi = 0.0\n",
        "new_thriller = 0.0\n",
        "new_rating_count = 3\n",
        "\n",
        "user_vec = np.array([[new_user_id, new_rating_count, new_rating_ave,\n",
        "                      new_action, new_adventure, new_animation, new_childrens,\n",
        "                      new_comedy, new_crime, new_documentary,\n",
        "                      new_drama, new_fantasy, new_horror, new_mystery,\n",
        "                      new_romance, new_scifi, new_thriller]])"
      ],
      "metadata": {
        "id": "hS_zZaerMTQZ"
      },
      "execution_count": 32,
      "outputs": []
    },
    {
      "cell_type": "code",
      "source": [
        "# generate and replicate the user vector to match the number movies in the data set.\n",
        "user_vecs = gen_user_vecs(user_vec,len(item_vecs))\n",
        "\n",
        "# scale our user and item vectors\n",
        "suser_vecs = scalerUser.transform(user_vecs)\n",
        "sitem_vecs = scalerItem.transform(item_vecs)\n",
        "\n",
        "# make a prediction\n",
        "y_p = model.predict([suser_vecs[:, u_s:], sitem_vecs[:, i_s:]])\n",
        "\n",
        "# unscale y prediction\n",
        "y_pu = scalerTarget.inverse_transform(y_p)\n",
        "\n",
        "# sort the results, highest prediction first\n",
        "sorted_index = np.argsort(-y_pu,axis=0).reshape(-1).tolist()  #negate to get largest rating first\n",
        "sorted_ypu   = y_pu[sorted_index]\n",
        "sorted_items = item_vecs[sorted_index]  #using unscaled vectors for display\n",
        "\n"
      ],
      "metadata": {
        "colab": {
          "base_uri": "https://localhost:8080/"
        },
        "id": "AyWurp_bM0ue",
        "outputId": "b6b5f46b-b41a-482a-9ecb-d49d59e5450c"
      },
      "execution_count": 47,
      "outputs": [
        {
          "output_type": "stream",
          "name": "stdout",
          "text": [
            "59/59 [==============================] - 0s 2ms/step\n"
          ]
        }
      ]
    },
    {
      "cell_type": "markdown",
      "source": [
        "## Predict for existing  user"
      ],
      "metadata": {
        "id": "mwugTMC7RF1X"
      }
    },
    {
      "cell_type": "code",
      "source": [
        "uid = 2\n",
        "# form a set of user vectors. This is the same vector, transformed and repeated.\n",
        "user_vecs, y_vecs = get_user_vecs(uid, user_train_unscaled, item_vecs, user_to_genre)\n",
        "\n",
        "# scale our user and item vectors\n",
        "suser_vecs = scalerUser.transform(user_vecs)\n",
        "sitem_vecs = scalerItem.transform(item_vecs)\n",
        "\n",
        "# make a prediction\n",
        "y_p = model.predict([suser_vecs[:, u_s:], sitem_vecs[:, i_s:]])\n",
        "\n",
        "# unscale y prediction\n",
        "y_pu = scalerTarget.inverse_transform(y_p)\n",
        "\n",
        "# sort the results, highest prediction first\n",
        "sorted_index = np.argsort(-y_pu,axis=0).reshape(-1).tolist()  #negate to get largest rating first\n",
        "sorted_ypu   = y_pu[sorted_index]\n",
        "sorted_items = item_vecs[sorted_index]  #using unscaled vectors for display\n",
        "sorted_user  = user_vecs[sorted_index]\n",
        "sorted_y     = y_vecs[sorted_index]\n",
        "\n"
      ],
      "metadata": {
        "colab": {
          "base_uri": "https://localhost:8080/"
        },
        "id": "6uzdQndKOb5K",
        "outputId": "17559349-c0b7-4c54-f0d8-b4f2743c254c"
      },
      "execution_count": 49,
      "outputs": [
        {
          "output_type": "stream",
          "name": "stdout",
          "text": [
            "59/59 [==============================] - 0s 2ms/step\n"
          ]
        }
      ]
    },
    {
      "cell_type": "markdown",
      "source": [
        "##  Finding Similar Items"
      ],
      "metadata": {
        "id": "diUIxfZhRUE0"
      }
    },
    {
      "cell_type": "code",
      "source": [
        "# GRADED_FUNCTION: sq_dist\n",
        "# UNQ_C2\n",
        "def sq_dist(a,b):\n",
        "    d = np.sum(np.square(a - b))\n",
        "    return d"
      ],
      "metadata": {
        "id": "f-WpZO61Q-uB"
      },
      "execution_count": 53,
      "outputs": []
    },
    {
      "cell_type": "code",
      "source": [
        "a1 = np.array([1.0, 2.0, 3.0]); b1 = np.array([1.0, 2.0, 3.0])\n",
        "a2 = np.array([1.1, 2.1, 3.1]); b2 = np.array([1.0, 2.0, 3.0])\n",
        "a3 = np.array([0, 1, 0]);       b3 = np.array([1, 0, 0])\n",
        "print(f\"squared distance between a1 and b1: {sq_dist(a1, b1):0.3f}\")\n",
        "print(f\"squared distance between a2 and b2: {sq_dist(a2, b2):0.3f}\")\n",
        "print(f\"squared distance between a3 and b3: {sq_dist(a3, b3):0.3f}\")"
      ],
      "metadata": {
        "colab": {
          "base_uri": "https://localhost:8080/"
        },
        "id": "dm65NclcRjhd",
        "outputId": "1bfa750d-ff70-450b-c5b7-0af0cc910f42"
      },
      "execution_count": 54,
      "outputs": [
        {
          "output_type": "stream",
          "name": "stdout",
          "text": [
            "squared distance between a1 and b1: 0.000\n",
            "squared distance between a2 and b2: 0.030\n",
            "squared distance between a3 and b3: 2.000\n"
          ]
        }
      ]
    },
    {
      "cell_type": "code",
      "source": [
        "input_item_m = tf.keras.layers.Input(shape=(num_item_features))    # input layer\n",
        "vm_m = item_NN(input_item_m)                                       # use the trained item_NN\n",
        "vm_m = tf.linalg.l2_normalize(vm_m, axis=1)                        # incorporate normalization as was done in the original model\n",
        "model_m = tf.keras.Model(input_item_m, vm_m)\n",
        "model_m.summary()"
      ],
      "metadata": {
        "colab": {
          "base_uri": "https://localhost:8080/"
        },
        "id": "uVG8OurbRtmQ",
        "outputId": "eb6945b9-f471-4b56-971c-e154347d340c"
      },
      "execution_count": 55,
      "outputs": [
        {
          "output_type": "stream",
          "name": "stdout",
          "text": [
            "Model: \"model_1\"\n",
            "_________________________________________________________________\n",
            " Layer (type)                Output Shape              Param #   \n",
            "=================================================================\n",
            " input_3 (InputLayer)        [(None, 16)]              0         \n",
            "                                                                 \n",
            " sequential_1 (Sequential)   (None, 32)                41376     \n",
            "                                                                 \n",
            " tf.math.l2_normalize_2 (TFO  (None, 32)               0         \n",
            " pLambda)                                                        \n",
            "                                                                 \n",
            "=================================================================\n",
            "Total params: 41,376\n",
            "Trainable params: 41,376\n",
            "Non-trainable params: 0\n",
            "_________________________________________________________________\n"
          ]
        }
      ]
    },
    {
      "cell_type": "code",
      "source": [
        "scaled_item_vecs = scalerItem.transform(item_vecs)\n",
        "vms = model_m.predict(scaled_item_vecs[:,i_s:])\n",
        "print(f\"size of all predicted movie feature vectors: {vms.shape}\")"
      ],
      "metadata": {
        "colab": {
          "base_uri": "https://localhost:8080/"
        },
        "id": "rjhl563uR09c",
        "outputId": "5afe9d4b-df72-482d-b43f-38f9b225e460"
      },
      "execution_count": 56,
      "outputs": [
        {
          "output_type": "stream",
          "name": "stdout",
          "text": [
            "59/59 [==============================] - 0s 1ms/step\n",
            "size of all predicted movie feature vectors: (1883, 32)\n"
          ]
        }
      ]
    },
    {
      "cell_type": "code",
      "source": [
        "count = 50  # number of movies to display\n",
        "dim = len(vms)\n",
        "dist = np.zeros((dim,dim))\n",
        "\n",
        "for i in range(dim):\n",
        "    for j in range(dim):\n",
        "        dist[i,j] = sq_dist(vms[i, :], vms[j, :])\n",
        "\n",
        "m_dist = ma.masked_array(dist, mask=np.identity(dist.shape[0]))  # mask the diagonal\n",
        "\n",
        "disp = [[\"movie1\", \"genres\", \"movie2\", \"genres\"]]\n",
        "for i in range(count):\n",
        "    min_idx = np.argmin(m_dist[i])\n",
        "    movie1_id = int(item_vecs[i,0])\n",
        "    movie2_id = int(item_vecs[min_idx,0])\n",
        "    disp.append( [movie_dict[movie1_id]['title'], movie_dict[movie1_id]['genres'],\n",
        "                  movie_dict[movie2_id]['title'], movie_dict[movie1_id]['genres']]\n",
        "               )\n",
        "table = tabulate.tabulate(disp, tablefmt='html', headers=\"firstrow\")\n",
        "table"
      ],
      "metadata": {
        "colab": {
          "base_uri": "https://localhost:8080/",
          "height": 90
        },
        "id": "97eCjqyYSZ8c",
        "outputId": "38e92c10-269e-48e9-ec52-0892179f47b1"
      },
      "execution_count": 57,
      "outputs": [
        {
          "output_type": "execute_result",
          "data": {
            "text/plain": [
              "'<table>\\n<thead>\\n<tr><th>movie1                                </th><th>genres                                             </th><th>movie2                                                                     </th><th>genres                                             </th></tr>\\n</thead>\\n<tbody>\\n<tr><td>Save the Last Dance (2001)            </td><td>Drama|Romance                                      </td><td>John Q (2002)                                                              </td><td>Drama|Romance                                      </td></tr>\\n<tr><td>Save the Last Dance (2001)            </td><td>Drama|Romance                                      </td><td>Saving Silverman (Evil Woman) (2001)                                       </td><td>Drama|Romance                                      </td></tr>\\n<tr><td>Wedding Planner, The (2001)           </td><td>Comedy|Romance                                     </td><td>Sweetest Thing, The (2002)                                                 </td><td>Comedy|Romance                                     </td></tr>\\n<tr><td>Wedding Planner, The (2001)           </td><td>Comedy|Romance                                     </td><td>Mr. Deeds (2002)                                                           </td><td>Comedy|Romance                                     </td></tr>\\n<tr><td>Hannibal (2001)                       </td><td>Horror|Thriller                                    </td><td>Fast and the Furious, The (2001)                                           </td><td>Horror|Thriller                                    </td></tr>\\n<tr><td>Hannibal (2001)                       </td><td>Horror|Thriller                                    </td><td>Sum of All Fears, The (2002)                                               </td><td>Horror|Thriller                                    </td></tr>\\n<tr><td>Saving Silverman (Evil Woman) (2001)  </td><td>Comedy|Romance                                     </td><td>Cats &amp; Dogs (2001)                                                         </td><td>Comedy|Romance                                     </td></tr>\\n<tr><td>Saving Silverman (Evil Woman) (2001)  </td><td>Comedy|Romance                                     </td><td>Save the Last Dance (2001)                                                 </td><td>Comedy|Romance                                     </td></tr>\\n<tr><td>Down to Earth (2001)                  </td><td>Comedy|Fantasy|Romance                             </td><td>Joe Dirt (2001)                                                            </td><td>Comedy|Fantasy|Romance                             </td></tr>\\n<tr><td>Down to Earth (2001)                  </td><td>Comedy|Fantasy|Romance                             </td><td>Haunted Mansion, The (2003)                                                </td><td>Comedy|Fantasy|Romance                             </td></tr>\\n<tr><td>Down to Earth (2001)                  </td><td>Comedy|Fantasy|Romance                             </td><td>Joe Dirt (2001)                                                            </td><td>Comedy|Fantasy|Romance                             </td></tr>\\n<tr><td>Mexican, The (2001)                   </td><td>Action|Comedy                                      </td><td>Knight&#x27;s Tale, A (2001)                                                    </td><td>Action|Comedy                                      </td></tr>\\n<tr><td>Mexican, The (2001)                   </td><td>Action|Comedy                                      </td><td>Knight&#x27;s Tale, A (2001)                                                    </td><td>Action|Comedy                                      </td></tr>\\n<tr><td>15 Minutes (2001)                     </td><td>Thriller                                           </td><td>Panic Room (2002)                                                          </td><td>Thriller                                           </td></tr>\\n<tr><td>Heartbreakers (2001)                  </td><td>Comedy|Crime|Romance                               </td><td>Animal, The (2001)                                                         </td><td>Comedy|Crime|Romance                               </td></tr>\\n<tr><td>Heartbreakers (2001)                  </td><td>Comedy|Crime|Romance                               </td><td>Haunted Mansion, The (2003)                                                </td><td>Comedy|Crime|Romance                               </td></tr>\\n<tr><td>Heartbreakers (2001)                  </td><td>Comedy|Crime|Romance                               </td><td>Fast and the Furious: Tokyo Drift, The (Fast and the Furious 3, The) (2006)</td><td>Comedy|Crime|Romance                               </td></tr>\\n<tr><td>Spy Kids (2001)                       </td><td>Action|Adventure|Children|Comedy                   </td><td>Men in Black II (a.k.a. MIIB) (a.k.a. MIB 2) (2002)                        </td><td>Action|Adventure|Children|Comedy                   </td></tr>\\n<tr><td>Spy Kids (2001)                       </td><td>Action|Adventure|Children|Comedy                   </td><td>Die Another Day (2002)                                                     </td><td>Action|Adventure|Children|Comedy                   </td></tr>\\n<tr><td>Spy Kids (2001)                       </td><td>Action|Adventure|Children|Comedy                   </td><td>Underworld: Evolution (2006)                                               </td><td>Action|Adventure|Children|Comedy                   </td></tr>\\n<tr><td>Spy Kids (2001)                       </td><td>Action|Adventure|Children|Comedy                   </td><td>Men in Black II (a.k.a. MIIB) (a.k.a. MIB 2) (2002)                        </td><td>Action|Adventure|Children|Comedy                   </td></tr>\\n<tr><td>Along Came a Spider (2001)            </td><td>Action|Crime|Mystery|Thriller                      </td><td>Rundown, The (2003)                                                        </td><td>Action|Crime|Mystery|Thriller                      </td></tr>\\n<tr><td>Along Came a Spider (2001)            </td><td>Action|Crime|Mystery|Thriller                      </td><td>Swordfish (2001)                                                           </td><td>Action|Crime|Mystery|Thriller                      </td></tr>\\n<tr><td>Along Came a Spider (2001)            </td><td>Action|Crime|Mystery|Thriller                      </td><td>Ring, The (2002)                                                           </td><td>Action|Crime|Mystery|Thriller                      </td></tr>\\n<tr><td>Along Came a Spider (2001)            </td><td>Action|Crime|Mystery|Thriller                      </td><td>Signs (2002)                                                               </td><td>Action|Crime|Mystery|Thriller                      </td></tr>\\n<tr><td>Blow (2001)                           </td><td>Crime|Drama                                        </td><td>Training Day (2001)                                                        </td><td>Crime|Drama                                        </td></tr>\\n<tr><td>Blow (2001)                           </td><td>Crime|Drama                                        </td><td>Training Day (2001)                                                        </td><td>Crime|Drama                                        </td></tr>\\n<tr><td>Bridget Jones&#x27;s Diary (2001)          </td><td>Comedy|Drama|Romance                               </td><td>Super Troopers (2001)                                                      </td><td>Comedy|Drama|Romance                               </td></tr>\\n<tr><td>Bridget Jones&#x27;s Diary (2001)          </td><td>Comedy|Drama|Romance                               </td><td>Others, The (2001)                                                         </td><td>Comedy|Drama|Romance                               </td></tr>\\n<tr><td>Bridget Jones&#x27;s Diary (2001)          </td><td>Comedy|Drama|Romance                               </td><td>Punch-Drunk Love (2002)                                                    </td><td>Comedy|Drama|Romance                               </td></tr>\\n<tr><td>Joe Dirt (2001)                       </td><td>Adventure|Comedy|Mystery|Romance                   </td><td>Bulletproof Monk (2003)                                                    </td><td>Adventure|Comedy|Mystery|Romance                   </td></tr>\\n<tr><td>Joe Dirt (2001)                       </td><td>Adventure|Comedy|Mystery|Romance                   </td><td>Dr. Dolittle 2 (2001)                                                      </td><td>Adventure|Comedy|Mystery|Romance                   </td></tr>\\n<tr><td>Joe Dirt (2001)                       </td><td>Adventure|Comedy|Mystery|Romance                   </td><td>Crocodile Dundee in Los Angeles (2001)                                     </td><td>Adventure|Comedy|Mystery|Romance                   </td></tr>\\n<tr><td>Joe Dirt (2001)                       </td><td>Adventure|Comedy|Mystery|Romance                   </td><td>Down to Earth (2001)                                                       </td><td>Adventure|Comedy|Mystery|Romance                   </td></tr>\\n<tr><td>Crocodile Dundee in Los Angeles (2001)</td><td>Comedy|Drama                                       </td><td>Heartbreakers (2001)                                                       </td><td>Comedy|Drama                                       </td></tr>\\n<tr><td>Crocodile Dundee in Los Angeles (2001)</td><td>Comedy|Drama                                       </td><td>Scary Movie 3 (2003)                                                       </td><td>Comedy|Drama                                       </td></tr>\\n<tr><td>Mummy Returns, The (2001)             </td><td>Action|Adventure|Comedy|Thriller                   </td><td>Swordfish (2001)                                                           </td><td>Action|Adventure|Comedy|Thriller                   </td></tr>\\n<tr><td>Mummy Returns, The (2001)             </td><td>Action|Adventure|Comedy|Thriller                   </td><td>Rundown, The (2003)                                                        </td><td>Action|Adventure|Comedy|Thriller                   </td></tr>\\n<tr><td>Mummy Returns, The (2001)             </td><td>Action|Adventure|Comedy|Thriller                   </td><td>American Pie 2 (2001)                                                      </td><td>Action|Adventure|Comedy|Thriller                   </td></tr>\\n<tr><td>Mummy Returns, The (2001)             </td><td>Action|Adventure|Comedy|Thriller                   </td><td>Star Trek: Nemesis (2002)                                                  </td><td>Action|Adventure|Comedy|Thriller                   </td></tr>\\n<tr><td>Knight&#x27;s Tale, A (2001)               </td><td>Action|Comedy|Romance                              </td><td>Mexican, The (2001)                                                        </td><td>Action|Comedy|Romance                              </td></tr>\\n<tr><td>Knight&#x27;s Tale, A (2001)               </td><td>Action|Comedy|Romance                              </td><td>Mexican, The (2001)                                                        </td><td>Action|Comedy|Romance                              </td></tr>\\n<tr><td>Knight&#x27;s Tale, A (2001)               </td><td>Action|Comedy|Romance                              </td><td>Monster&#x27;s Ball (2001)                                                      </td><td>Action|Comedy|Romance                              </td></tr>\\n<tr><td>Shrek (2001)                          </td><td>Adventure|Animation|Children|Comedy|Fantasy|Romance</td><td>Monsters, Inc. (2001)                                                      </td><td>Adventure|Animation|Children|Comedy|Fantasy|Romance</td></tr>\\n<tr><td>Shrek (2001)                          </td><td>Adventure|Animation|Children|Comedy|Fantasy|Romance</td><td>Monsters, Inc. (2001)                                                      </td><td>Adventure|Animation|Children|Comedy|Fantasy|Romance</td></tr>\\n<tr><td>Shrek (2001)                          </td><td>Adventure|Animation|Children|Comedy|Fantasy|Romance</td><td>Monsters, Inc. (2001)                                                      </td><td>Adventure|Animation|Children|Comedy|Fantasy|Romance</td></tr>\\n<tr><td>Shrek (2001)                          </td><td>Adventure|Animation|Children|Comedy|Fantasy|Romance</td><td>Monsters, Inc. (2001)                                                      </td><td>Adventure|Animation|Children|Comedy|Fantasy|Romance</td></tr>\\n<tr><td>Shrek (2001)                          </td><td>Adventure|Animation|Children|Comedy|Fantasy|Romance</td><td>Monsters, Inc. (2001)                                                      </td><td>Adventure|Animation|Children|Comedy|Fantasy|Romance</td></tr>\\n<tr><td>Shrek (2001)                          </td><td>Adventure|Animation|Children|Comedy|Fantasy|Romance</td><td>Monsoon Wedding (2001)                                                     </td><td>Adventure|Animation|Children|Comedy|Fantasy|Romance</td></tr>\\n<tr><td>Animal, The (2001)                    </td><td>Comedy                                             </td><td>Heartbreakers (2001)                                                       </td><td>Comedy                                             </td></tr>\\n</tbody>\\n</table>'"
            ],
            "text/html": [
              "<table>\n",
              "<thead>\n",
              "<tr><th>movie1                                </th><th>genres                                             </th><th>movie2                                                                     </th><th>genres                                             </th></tr>\n",
              "</thead>\n",
              "<tbody>\n",
              "<tr><td>Save the Last Dance (2001)            </td><td>Drama|Romance                                      </td><td>John Q (2002)                                                              </td><td>Drama|Romance                                      </td></tr>\n",
              "<tr><td>Save the Last Dance (2001)            </td><td>Drama|Romance                                      </td><td>Saving Silverman (Evil Woman) (2001)                                       </td><td>Drama|Romance                                      </td></tr>\n",
              "<tr><td>Wedding Planner, The (2001)           </td><td>Comedy|Romance                                     </td><td>Sweetest Thing, The (2002)                                                 </td><td>Comedy|Romance                                     </td></tr>\n",
              "<tr><td>Wedding Planner, The (2001)           </td><td>Comedy|Romance                                     </td><td>Mr. Deeds (2002)                                                           </td><td>Comedy|Romance                                     </td></tr>\n",
              "<tr><td>Hannibal (2001)                       </td><td>Horror|Thriller                                    </td><td>Fast and the Furious, The (2001)                                           </td><td>Horror|Thriller                                    </td></tr>\n",
              "<tr><td>Hannibal (2001)                       </td><td>Horror|Thriller                                    </td><td>Sum of All Fears, The (2002)                                               </td><td>Horror|Thriller                                    </td></tr>\n",
              "<tr><td>Saving Silverman (Evil Woman) (2001)  </td><td>Comedy|Romance                                     </td><td>Cats &amp; Dogs (2001)                                                         </td><td>Comedy|Romance                                     </td></tr>\n",
              "<tr><td>Saving Silverman (Evil Woman) (2001)  </td><td>Comedy|Romance                                     </td><td>Save the Last Dance (2001)                                                 </td><td>Comedy|Romance                                     </td></tr>\n",
              "<tr><td>Down to Earth (2001)                  </td><td>Comedy|Fantasy|Romance                             </td><td>Joe Dirt (2001)                                                            </td><td>Comedy|Fantasy|Romance                             </td></tr>\n",
              "<tr><td>Down to Earth (2001)                  </td><td>Comedy|Fantasy|Romance                             </td><td>Haunted Mansion, The (2003)                                                </td><td>Comedy|Fantasy|Romance                             </td></tr>\n",
              "<tr><td>Down to Earth (2001)                  </td><td>Comedy|Fantasy|Romance                             </td><td>Joe Dirt (2001)                                                            </td><td>Comedy|Fantasy|Romance                             </td></tr>\n",
              "<tr><td>Mexican, The (2001)                   </td><td>Action|Comedy                                      </td><td>Knight&#x27;s Tale, A (2001)                                                    </td><td>Action|Comedy                                      </td></tr>\n",
              "<tr><td>Mexican, The (2001)                   </td><td>Action|Comedy                                      </td><td>Knight&#x27;s Tale, A (2001)                                                    </td><td>Action|Comedy                                      </td></tr>\n",
              "<tr><td>15 Minutes (2001)                     </td><td>Thriller                                           </td><td>Panic Room (2002)                                                          </td><td>Thriller                                           </td></tr>\n",
              "<tr><td>Heartbreakers (2001)                  </td><td>Comedy|Crime|Romance                               </td><td>Animal, The (2001)                                                         </td><td>Comedy|Crime|Romance                               </td></tr>\n",
              "<tr><td>Heartbreakers (2001)                  </td><td>Comedy|Crime|Romance                               </td><td>Haunted Mansion, The (2003)                                                </td><td>Comedy|Crime|Romance                               </td></tr>\n",
              "<tr><td>Heartbreakers (2001)                  </td><td>Comedy|Crime|Romance                               </td><td>Fast and the Furious: Tokyo Drift, The (Fast and the Furious 3, The) (2006)</td><td>Comedy|Crime|Romance                               </td></tr>\n",
              "<tr><td>Spy Kids (2001)                       </td><td>Action|Adventure|Children|Comedy                   </td><td>Men in Black II (a.k.a. MIIB) (a.k.a. MIB 2) (2002)                        </td><td>Action|Adventure|Children|Comedy                   </td></tr>\n",
              "<tr><td>Spy Kids (2001)                       </td><td>Action|Adventure|Children|Comedy                   </td><td>Die Another Day (2002)                                                     </td><td>Action|Adventure|Children|Comedy                   </td></tr>\n",
              "<tr><td>Spy Kids (2001)                       </td><td>Action|Adventure|Children|Comedy                   </td><td>Underworld: Evolution (2006)                                               </td><td>Action|Adventure|Children|Comedy                   </td></tr>\n",
              "<tr><td>Spy Kids (2001)                       </td><td>Action|Adventure|Children|Comedy                   </td><td>Men in Black II (a.k.a. MIIB) (a.k.a. MIB 2) (2002)                        </td><td>Action|Adventure|Children|Comedy                   </td></tr>\n",
              "<tr><td>Along Came a Spider (2001)            </td><td>Action|Crime|Mystery|Thriller                      </td><td>Rundown, The (2003)                                                        </td><td>Action|Crime|Mystery|Thriller                      </td></tr>\n",
              "<tr><td>Along Came a Spider (2001)            </td><td>Action|Crime|Mystery|Thriller                      </td><td>Swordfish (2001)                                                           </td><td>Action|Crime|Mystery|Thriller                      </td></tr>\n",
              "<tr><td>Along Came a Spider (2001)            </td><td>Action|Crime|Mystery|Thriller                      </td><td>Ring, The (2002)                                                           </td><td>Action|Crime|Mystery|Thriller                      </td></tr>\n",
              "<tr><td>Along Came a Spider (2001)            </td><td>Action|Crime|Mystery|Thriller                      </td><td>Signs (2002)                                                               </td><td>Action|Crime|Mystery|Thriller                      </td></tr>\n",
              "<tr><td>Blow (2001)                           </td><td>Crime|Drama                                        </td><td>Training Day (2001)                                                        </td><td>Crime|Drama                                        </td></tr>\n",
              "<tr><td>Blow (2001)                           </td><td>Crime|Drama                                        </td><td>Training Day (2001)                                                        </td><td>Crime|Drama                                        </td></tr>\n",
              "<tr><td>Bridget Jones&#x27;s Diary (2001)          </td><td>Comedy|Drama|Romance                               </td><td>Super Troopers (2001)                                                      </td><td>Comedy|Drama|Romance                               </td></tr>\n",
              "<tr><td>Bridget Jones&#x27;s Diary (2001)          </td><td>Comedy|Drama|Romance                               </td><td>Others, The (2001)                                                         </td><td>Comedy|Drama|Romance                               </td></tr>\n",
              "<tr><td>Bridget Jones&#x27;s Diary (2001)          </td><td>Comedy|Drama|Romance                               </td><td>Punch-Drunk Love (2002)                                                    </td><td>Comedy|Drama|Romance                               </td></tr>\n",
              "<tr><td>Joe Dirt (2001)                       </td><td>Adventure|Comedy|Mystery|Romance                   </td><td>Bulletproof Monk (2003)                                                    </td><td>Adventure|Comedy|Mystery|Romance                   </td></tr>\n",
              "<tr><td>Joe Dirt (2001)                       </td><td>Adventure|Comedy|Mystery|Romance                   </td><td>Dr. Dolittle 2 (2001)                                                      </td><td>Adventure|Comedy|Mystery|Romance                   </td></tr>\n",
              "<tr><td>Joe Dirt (2001)                       </td><td>Adventure|Comedy|Mystery|Romance                   </td><td>Crocodile Dundee in Los Angeles (2001)                                     </td><td>Adventure|Comedy|Mystery|Romance                   </td></tr>\n",
              "<tr><td>Joe Dirt (2001)                       </td><td>Adventure|Comedy|Mystery|Romance                   </td><td>Down to Earth (2001)                                                       </td><td>Adventure|Comedy|Mystery|Romance                   </td></tr>\n",
              "<tr><td>Crocodile Dundee in Los Angeles (2001)</td><td>Comedy|Drama                                       </td><td>Heartbreakers (2001)                                                       </td><td>Comedy|Drama                                       </td></tr>\n",
              "<tr><td>Crocodile Dundee in Los Angeles (2001)</td><td>Comedy|Drama                                       </td><td>Scary Movie 3 (2003)                                                       </td><td>Comedy|Drama                                       </td></tr>\n",
              "<tr><td>Mummy Returns, The (2001)             </td><td>Action|Adventure|Comedy|Thriller                   </td><td>Swordfish (2001)                                                           </td><td>Action|Adventure|Comedy|Thriller                   </td></tr>\n",
              "<tr><td>Mummy Returns, The (2001)             </td><td>Action|Adventure|Comedy|Thriller                   </td><td>Rundown, The (2003)                                                        </td><td>Action|Adventure|Comedy|Thriller                   </td></tr>\n",
              "<tr><td>Mummy Returns, The (2001)             </td><td>Action|Adventure|Comedy|Thriller                   </td><td>American Pie 2 (2001)                                                      </td><td>Action|Adventure|Comedy|Thriller                   </td></tr>\n",
              "<tr><td>Mummy Returns, The (2001)             </td><td>Action|Adventure|Comedy|Thriller                   </td><td>Star Trek: Nemesis (2002)                                                  </td><td>Action|Adventure|Comedy|Thriller                   </td></tr>\n",
              "<tr><td>Knight&#x27;s Tale, A (2001)               </td><td>Action|Comedy|Romance                              </td><td>Mexican, The (2001)                                                        </td><td>Action|Comedy|Romance                              </td></tr>\n",
              "<tr><td>Knight&#x27;s Tale, A (2001)               </td><td>Action|Comedy|Romance                              </td><td>Mexican, The (2001)                                                        </td><td>Action|Comedy|Romance                              </td></tr>\n",
              "<tr><td>Knight&#x27;s Tale, A (2001)               </td><td>Action|Comedy|Romance                              </td><td>Monster&#x27;s Ball (2001)                                                      </td><td>Action|Comedy|Romance                              </td></tr>\n",
              "<tr><td>Shrek (2001)                          </td><td>Adventure|Animation|Children|Comedy|Fantasy|Romance</td><td>Monsters, Inc. (2001)                                                      </td><td>Adventure|Animation|Children|Comedy|Fantasy|Romance</td></tr>\n",
              "<tr><td>Shrek (2001)                          </td><td>Adventure|Animation|Children|Comedy|Fantasy|Romance</td><td>Monsters, Inc. (2001)                                                      </td><td>Adventure|Animation|Children|Comedy|Fantasy|Romance</td></tr>\n",
              "<tr><td>Shrek (2001)                          </td><td>Adventure|Animation|Children|Comedy|Fantasy|Romance</td><td>Monsters, Inc. (2001)                                                      </td><td>Adventure|Animation|Children|Comedy|Fantasy|Romance</td></tr>\n",
              "<tr><td>Shrek (2001)                          </td><td>Adventure|Animation|Children|Comedy|Fantasy|Romance</td><td>Monsters, Inc. (2001)                                                      </td><td>Adventure|Animation|Children|Comedy|Fantasy|Romance</td></tr>\n",
              "<tr><td>Shrek (2001)                          </td><td>Adventure|Animation|Children|Comedy|Fantasy|Romance</td><td>Monsters, Inc. (2001)                                                      </td><td>Adventure|Animation|Children|Comedy|Fantasy|Romance</td></tr>\n",
              "<tr><td>Shrek (2001)                          </td><td>Adventure|Animation|Children|Comedy|Fantasy|Romance</td><td>Monsoon Wedding (2001)                                                     </td><td>Adventure|Animation|Children|Comedy|Fantasy|Romance</td></tr>\n",
              "<tr><td>Animal, The (2001)                    </td><td>Comedy                                             </td><td>Heartbreakers (2001)                                                       </td><td>Comedy                                             </td></tr>\n",
              "</tbody>\n",
              "</table>"
            ],
            "application/vnd.google.colaboratory.intrinsic+json": {
              "type": "string"
            }
          },
          "metadata": {},
          "execution_count": 57
        }
      ]
    },
    {
      "cell_type": "code",
      "source": [],
      "metadata": {
        "id": "pxoHZDs-SbLX"
      },
      "execution_count": null,
      "outputs": []
    }
  ]
}